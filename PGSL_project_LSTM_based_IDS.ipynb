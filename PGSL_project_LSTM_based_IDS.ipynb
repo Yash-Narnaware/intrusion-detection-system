{
  "cells": [
    {
      "cell_type": "markdown",
      "metadata": {
        "id": "GJdoXNeJpiRw"
      },
      "source": [
        "# Import all the required libraries"
      ]
    },
    {
      "cell_type": "code",
      "execution_count": 1,
      "metadata": {
        "id": "O_xdzkzzpaVZ"
      },
      "outputs": [],
      "source": [
        "import numpy as np\n",
        "import pandas as pd\n",
        "import os\n",
        "import re\n",
        "import string\n",
        "import zipfile\n",
        "import ast\n",
        "import gensim\n",
        "from gensim.models import Word2Vec\n",
        "from gensim.models.phrases import Phrases, Phraser\n",
        "from bs4 import BeautifulSoup\n",
        "from sklearn.model_selection import train_test_split\n",
        "from nltk.corpus import stopwords\n",
        "from nltk.tokenize import word_tokenize\n",
        "from tensorflow.keras.preprocessing.text import Tokenizer\n",
        "from tensorflow.keras.preprocessing.sequence import pad_sequences\n",
        "from tensorflow.keras.models import Sequential\n",
        "from tensorflow.keras.layers import Embedding, LSTM, Dense, Dropout, Bidirectional, BatchNormalization\n",
        "from keras.regularizers import l2\n",
        "from keras.optimizers import Adam\n",
        "from imblearn.under_sampling import RandomUnderSampler\n",
        "from imblearn.over_sampling import RandomOverSampler\n",
        "from collections import Counter\n",
        "import matplotlib.pyplot as plt\n",
        "from sklearn.metrics import roc_curve, roc_auc_score\n",
        "from sklearn.utils import shuffle"
      ]
    },
    {
      "cell_type": "markdown",
      "metadata": {
        "id": "rXuP3viPpoh9"
      },
      "source": [
        "# The Dataset"
      ]
    },
    {
      "cell_type": "markdown",
      "metadata": {
        "id": "mf5ZmJ7VpyqK"
      },
      "source": [
        "## Download the dataset"
      ]
    },
    {
      "cell_type": "code",
      "execution_count": 2,
      "metadata": {
        "colab": {
          "base_uri": "https://localhost:8080/"
        },
        "id": "fbov8hDlpuIa",
        "outputId": "245c825e-a032-460b-e932-d1ff3ef45edf"
      },
      "outputs": [
        {
          "output_type": "stream",
          "name": "stdout",
          "text": [
            "--2024-12-02 17:01:39--  https://raw.githubusercontent.com/verazuo/a-labelled-version-of-the-ADFA-LD-dataset/refs/heads/master/ADFA-LD.zip\n",
            "Resolving raw.githubusercontent.com (raw.githubusercontent.com)... 185.199.108.133, 185.199.109.133, 185.199.110.133, ...\n",
            "Connecting to raw.githubusercontent.com (raw.githubusercontent.com)|185.199.108.133|:443... connected.\n",
            "HTTP request sent, awaiting response... 200 OK\n",
            "Length: 2381193 (2.3M) [application/zip]\n",
            "Saving to: ‘ADFA-LD.zip’\n",
            "\n",
            "ADFA-LD.zip         100%[===================>]   2.27M  --.-KB/s    in 0.05s   \n",
            "\n",
            "2024-12-02 17:01:39 (42.7 MB/s) - ‘ADFA-LD.zip’ saved [2381193/2381193]\n",
            "\n"
          ]
        }
      ],
      "source": [
        "!wget https://raw.githubusercontent.com/verazuo/a-labelled-version-of-the-ADFA-LD-dataset/refs/heads/master/ADFA-LD.zip"
      ]
    },
    {
      "cell_type": "markdown",
      "metadata": {
        "id": "Ayg6ep2Tqma4"
      },
      "source": [
        "## Clean and store the data in CSV file"
      ]
    },
    {
      "cell_type": "markdown",
      "metadata": {
        "id": "cW261qOsxG3Z"
      },
      "source": [
        "### Unzip the dataset file"
      ]
    },
    {
      "cell_type": "code",
      "execution_count": 3,
      "metadata": {
        "id": "r1rvrv_xxK1x"
      },
      "outputs": [],
      "source": [
        "zip_file_path = \"/content/ADFA-LD.zip\"\n",
        "# zip_file_path = \"/kaggle/working/ADFA-LD.zip\"\n",
        "\n",
        "# Extract the zip file\n",
        "with zipfile.ZipFile(zip_file_path, 'r') as zip_ref:\n",
        "    zip_ref.extractall()"
      ]
    },
    {
      "cell_type": "markdown",
      "metadata": {
        "id": "iZBDfhuixTSz"
      },
      "source": [
        "### Store the data in CSV file with respective attack label"
      ]
    },
    {
      "cell_type": "code",
      "execution_count": 4,
      "metadata": {
        "id": "zn7TkYSTrD5u"
      },
      "outputs": [],
      "source": [
        "#Paths to your dataset folders\n",
        "train_data_dir = '/content/ADFA-LD/Training_Data_Master'\n",
        "attack_data_dir = '/content/ADFA-LD/Attack_Data_Master'\n",
        "\n",
        "# train_data_dir = '/kaggle/working/ADFA-LD/Training_Data_Master'\n",
        "# attack_data_dir = '/kaggle/working/ADFA-LD/Attack_Data_Master'\n",
        "\n",
        "#Initialize a list to store the data\n",
        "data = []\n",
        "\n",
        "# Function to read system calls from a text file\n",
        "def read_system_calls(file_path):\n",
        "    with open(file_path, 'r') as file:\n",
        "        # Read, strip, split, and convert to integers\n",
        "        system_calls = list(map(int, file.read().strip().split()))\n",
        "    return system_calls\n",
        "\n",
        "#Function to extract the base attack name (removes last \"_\" and numbers)\n",
        "def extract_attack_name(attack_folder_name):\n",
        "    return re.sub(r'_\\d+$', '', attack_folder_name)  # Remove the last \"_\" and following digits\n",
        "\n",
        "#Process normal system calls (label = 0)\n",
        "for file_name in os.listdir(train_data_dir):\n",
        "    file_path = os.path.join(train_data_dir, file_name)\n",
        "    system_calls = read_system_calls(file_path)\n",
        "    data.append([system_calls, 'normal', 0])  # Label 0 for normal system calls, 'normal' for the name\n",
        "\n",
        "#Process attack system calls\n",
        "#Mapping attack types to unique labels\n",
        "attack_label_map = {}\n",
        "current_label = 1\n",
        "\n",
        "\n",
        "for attack_folder in os.listdir(attack_data_dir):\n",
        "    attack_type = extract_attack_name(attack_folder)  #Extract the base attack name\n",
        "\n",
        "    if attack_type not in attack_label_map:\n",
        "        attack_label_map[attack_type] = current_label\n",
        "        current_label += 1  #Increment the label for the next attack type\n",
        "\n",
        "    attack_label = attack_label_map[attack_type]\n",
        "    folder_path = os.path.join(attack_data_dir, attack_folder)\n",
        "\n",
        "    for file_name in os.listdir(folder_path):\n",
        "        file_path = os.path.join(folder_path, file_name)\n",
        "        system_calls = read_system_calls(file_path)\n",
        "        data.append([system_calls, attack_type, attack_label])  #Use the mapped label and attack type for this attack\n",
        "\n",
        "\n",
        "#Create a DataFrame and save it as CSV\n",
        "df = pd.DataFrame(data, columns=['System_Calls', 'Attack_Type', 'Label'])\n",
        "\n",
        "#Save as CSV\n",
        "df.to_csv('system_calls_with_labels.csv', index=False)\n",
        "\n"
      ]
    },
    {
      "cell_type": "code",
      "execution_count": 5,
      "metadata": {
        "colab": {
          "base_uri": "https://localhost:8080/"
        },
        "id": "J9lNh3GSSNV8",
        "outputId": "9610a1c8-5f3f-40a2-e74a-eab5fda854b0"
      },
      "outputs": [
        {
          "output_type": "execute_result",
          "data": {
            "text/plain": [
              "{'Java_Meterpreter': 1,\n",
              " 'Hydra_FTP': 2,\n",
              " 'Hydra_SSH': 3,\n",
              " 'Meterpreter': 4,\n",
              " 'Adduser': 5,\n",
              " 'Web_Shell': 6}"
            ]
          },
          "metadata": {},
          "execution_count": 5
        }
      ],
      "source": [
        "attack_label_map"
      ]
    },
    {
      "cell_type": "markdown",
      "source": [
        "## Load validation data"
      ],
      "metadata": {
        "id": "28YiJdWwUmSn"
      }
    },
    {
      "cell_type": "code",
      "execution_count": 6,
      "metadata": {
        "id": "1tLyc5SywFp_"
      },
      "outputs": [],
      "source": [
        "val = []\n",
        "# val_data_dir = \"/kaggle/working/ADFA-LD/Validation_Data_Master\"\n",
        "val_data_dir = \"/content/ADFA-LD/Validation_Data_Master\"\n",
        "for file_name in os.listdir(val_data_dir):\n",
        "    file_path = os.path.join(val_data_dir, file_name)\n",
        "    system_calls = read_system_calls(file_path)\n",
        "    val.append(system_calls)\n",
        "\n",
        "#Convert each integer to a string\n",
        "val = [[str(num) for num in sublist] for sublist in val]"
      ]
    },
    {
      "cell_type": "markdown",
      "metadata": {
        "id": "XMXD3vaVryrD"
      },
      "source": [
        "## Know the Dataset...."
      ]
    },
    {
      "cell_type": "code",
      "execution_count": 7,
      "metadata": {
        "colab": {
          "base_uri": "https://localhost:8080/"
        },
        "id": "igSGOpIAsRZq",
        "outputId": "6e0a7349-34e5-441c-979f-a80ee6bc3dd2"
      },
      "outputs": [
        {
          "output_type": "stream",
          "name": "stdout",
          "text": [
            "\n",
            "Unique attack types and their counts:\n",
            "Attack_Type\n",
            "normal              833\n",
            "Hydra_SSH           176\n",
            "Hydra_FTP           162\n",
            "Java_Meterpreter    124\n",
            "Web_Shell           118\n",
            "Adduser              91\n",
            "Meterpreter          75\n",
            "Name: count, dtype: int64\n"
          ]
        }
      ],
      "source": [
        "#Print unique attack types and label counts\n",
        "label_counts = df['Attack_Type'].value_counts()\n",
        "print(\"\\nUnique attack types and their counts:\")\n",
        "print(label_counts)"
      ]
    },
    {
      "cell_type": "markdown",
      "metadata": {
        "id": "j0bHvcfb5yBv"
      },
      "source": [
        "Data is imbalanced"
      ]
    },
    {
      "cell_type": "markdown",
      "metadata": {
        "id": "H2bpFqJOjm20"
      },
      "source": [
        "# LSTM based binary classifier"
      ]
    },
    {
      "cell_type": "markdown",
      "metadata": {
        "id": "H_PgW32Wkdtr"
      },
      "source": [
        "## Load and process the dataset"
      ]
    },
    {
      "cell_type": "code",
      "execution_count": 8,
      "metadata": {
        "colab": {
          "base_uri": "https://localhost:8080/",
          "height": 532
        },
        "id": "6bkL3ibB2hh_",
        "outputId": "b2110138-0ca8-4ab8-cecb-51e29cbffd63"
      },
      "outputs": [
        {
          "output_type": "stream",
          "name": "stdout",
          "text": [
            "\n",
            "Unique attack types and their counts:\n",
            "Label\n",
            "0    833\n",
            "1    746\n",
            "Name: count, dtype: int64\n"
          ]
        },
        {
          "output_type": "execute_result",
          "data": {
            "text/plain": [
              "                                           System_Calls  Label\n",
              "0     [240, 311, 78, 240, 120, 221, 33, 120, 168, 24...      0\n",
              "1     [6, 78, 4, 118, 38, 197, 6, 196, 233, 196, 15,...      0\n",
              "2     [6, 11, 45, 33, 192, 33, 5, 197, 192, 6, 33, 5...      0\n",
              "3     [6, 91, 11, 45, 221, 221, 221, 33, 33, 192, 33...      0\n",
              "4     [174, 174, 174, 174, 174, 174, 221, 221, 221, ...      0\n",
              "...                                                 ...    ...\n",
              "1574  [3, 168, 168, 168, 265, 168, 3, 168, 265, 168,...      1\n",
              "1575  [162, 162, 162, 162, 114, 162, 162, 114, 162, ...      1\n",
              "1576  [142, 265, 265, 104, 3, 3, 175, 175, 175, 175,...      1\n",
              "1577  [168, 3, 168, 265, 168, 168, 265, 168, 168, 3,...      1\n",
              "1578  [265, 168, 168, 168, 168, 265, 168, 168, 265, ...      1\n",
              "\n",
              "[1579 rows x 2 columns]"
            ],
            "text/html": [
              "\n",
              "  <div id=\"df-858e6cc2-ee90-48c7-a358-41790cb98135\" class=\"colab-df-container\">\n",
              "    <div>\n",
              "<style scoped>\n",
              "    .dataframe tbody tr th:only-of-type {\n",
              "        vertical-align: middle;\n",
              "    }\n",
              "\n",
              "    .dataframe tbody tr th {\n",
              "        vertical-align: top;\n",
              "    }\n",
              "\n",
              "    .dataframe thead th {\n",
              "        text-align: right;\n",
              "    }\n",
              "</style>\n",
              "<table border=\"1\" class=\"dataframe\">\n",
              "  <thead>\n",
              "    <tr style=\"text-align: right;\">\n",
              "      <th></th>\n",
              "      <th>System_Calls</th>\n",
              "      <th>Label</th>\n",
              "    </tr>\n",
              "  </thead>\n",
              "  <tbody>\n",
              "    <tr>\n",
              "      <th>0</th>\n",
              "      <td>[240, 311, 78, 240, 120, 221, 33, 120, 168, 24...</td>\n",
              "      <td>0</td>\n",
              "    </tr>\n",
              "    <tr>\n",
              "      <th>1</th>\n",
              "      <td>[6, 78, 4, 118, 38, 197, 6, 196, 233, 196, 15,...</td>\n",
              "      <td>0</td>\n",
              "    </tr>\n",
              "    <tr>\n",
              "      <th>2</th>\n",
              "      <td>[6, 11, 45, 33, 192, 33, 5, 197, 192, 6, 33, 5...</td>\n",
              "      <td>0</td>\n",
              "    </tr>\n",
              "    <tr>\n",
              "      <th>3</th>\n",
              "      <td>[6, 91, 11, 45, 221, 221, 221, 33, 33, 192, 33...</td>\n",
              "      <td>0</td>\n",
              "    </tr>\n",
              "    <tr>\n",
              "      <th>4</th>\n",
              "      <td>[174, 174, 174, 174, 174, 174, 221, 221, 221, ...</td>\n",
              "      <td>0</td>\n",
              "    </tr>\n",
              "    <tr>\n",
              "      <th>...</th>\n",
              "      <td>...</td>\n",
              "      <td>...</td>\n",
              "    </tr>\n",
              "    <tr>\n",
              "      <th>1574</th>\n",
              "      <td>[3, 168, 168, 168, 265, 168, 3, 168, 265, 168,...</td>\n",
              "      <td>1</td>\n",
              "    </tr>\n",
              "    <tr>\n",
              "      <th>1575</th>\n",
              "      <td>[162, 162, 162, 162, 114, 162, 162, 114, 162, ...</td>\n",
              "      <td>1</td>\n",
              "    </tr>\n",
              "    <tr>\n",
              "      <th>1576</th>\n",
              "      <td>[142, 265, 265, 104, 3, 3, 175, 175, 175, 175,...</td>\n",
              "      <td>1</td>\n",
              "    </tr>\n",
              "    <tr>\n",
              "      <th>1577</th>\n",
              "      <td>[168, 3, 168, 265, 168, 168, 265, 168, 168, 3,...</td>\n",
              "      <td>1</td>\n",
              "    </tr>\n",
              "    <tr>\n",
              "      <th>1578</th>\n",
              "      <td>[265, 168, 168, 168, 168, 265, 168, 168, 265, ...</td>\n",
              "      <td>1</td>\n",
              "    </tr>\n",
              "  </tbody>\n",
              "</table>\n",
              "<p>1579 rows × 2 columns</p>\n",
              "</div>\n",
              "    <div class=\"colab-df-buttons\">\n",
              "\n",
              "  <div class=\"colab-df-container\">\n",
              "    <button class=\"colab-df-convert\" onclick=\"convertToInteractive('df-858e6cc2-ee90-48c7-a358-41790cb98135')\"\n",
              "            title=\"Convert this dataframe to an interactive table.\"\n",
              "            style=\"display:none;\">\n",
              "\n",
              "  <svg xmlns=\"http://www.w3.org/2000/svg\" height=\"24px\" viewBox=\"0 -960 960 960\">\n",
              "    <path d=\"M120-120v-720h720v720H120Zm60-500h600v-160H180v160Zm220 220h160v-160H400v160Zm0 220h160v-160H400v160ZM180-400h160v-160H180v160Zm440 0h160v-160H620v160ZM180-180h160v-160H180v160Zm440 0h160v-160H620v160Z\"/>\n",
              "  </svg>\n",
              "    </button>\n",
              "\n",
              "  <style>\n",
              "    .colab-df-container {\n",
              "      display:flex;\n",
              "      gap: 12px;\n",
              "    }\n",
              "\n",
              "    .colab-df-convert {\n",
              "      background-color: #E8F0FE;\n",
              "      border: none;\n",
              "      border-radius: 50%;\n",
              "      cursor: pointer;\n",
              "      display: none;\n",
              "      fill: #1967D2;\n",
              "      height: 32px;\n",
              "      padding: 0 0 0 0;\n",
              "      width: 32px;\n",
              "    }\n",
              "\n",
              "    .colab-df-convert:hover {\n",
              "      background-color: #E2EBFA;\n",
              "      box-shadow: 0px 1px 2px rgba(60, 64, 67, 0.3), 0px 1px 3px 1px rgba(60, 64, 67, 0.15);\n",
              "      fill: #174EA6;\n",
              "    }\n",
              "\n",
              "    .colab-df-buttons div {\n",
              "      margin-bottom: 4px;\n",
              "    }\n",
              "\n",
              "    [theme=dark] .colab-df-convert {\n",
              "      background-color: #3B4455;\n",
              "      fill: #D2E3FC;\n",
              "    }\n",
              "\n",
              "    [theme=dark] .colab-df-convert:hover {\n",
              "      background-color: #434B5C;\n",
              "      box-shadow: 0px 1px 3px 1px rgba(0, 0, 0, 0.15);\n",
              "      filter: drop-shadow(0px 1px 2px rgba(0, 0, 0, 0.3));\n",
              "      fill: #FFFFFF;\n",
              "    }\n",
              "  </style>\n",
              "\n",
              "    <script>\n",
              "      const buttonEl =\n",
              "        document.querySelector('#df-858e6cc2-ee90-48c7-a358-41790cb98135 button.colab-df-convert');\n",
              "      buttonEl.style.display =\n",
              "        google.colab.kernel.accessAllowed ? 'block' : 'none';\n",
              "\n",
              "      async function convertToInteractive(key) {\n",
              "        const element = document.querySelector('#df-858e6cc2-ee90-48c7-a358-41790cb98135');\n",
              "        const dataTable =\n",
              "          await google.colab.kernel.invokeFunction('convertToInteractive',\n",
              "                                                    [key], {});\n",
              "        if (!dataTable) return;\n",
              "\n",
              "        const docLinkHtml = 'Like what you see? Visit the ' +\n",
              "          '<a target=\"_blank\" href=https://colab.research.google.com/notebooks/data_table.ipynb>data table notebook</a>'\n",
              "          + ' to learn more about interactive tables.';\n",
              "        element.innerHTML = '';\n",
              "        dataTable['output_type'] = 'display_data';\n",
              "        await google.colab.output.renderOutput(dataTable, element);\n",
              "        const docLink = document.createElement('div');\n",
              "        docLink.innerHTML = docLinkHtml;\n",
              "        element.appendChild(docLink);\n",
              "      }\n",
              "    </script>\n",
              "  </div>\n",
              "\n",
              "\n",
              "<div id=\"df-7297c93e-e3a4-4fd0-960f-5b1c9c7fdfb7\">\n",
              "  <button class=\"colab-df-quickchart\" onclick=\"quickchart('df-7297c93e-e3a4-4fd0-960f-5b1c9c7fdfb7')\"\n",
              "            title=\"Suggest charts\"\n",
              "            style=\"display:none;\">\n",
              "\n",
              "<svg xmlns=\"http://www.w3.org/2000/svg\" height=\"24px\"viewBox=\"0 0 24 24\"\n",
              "     width=\"24px\">\n",
              "    <g>\n",
              "        <path d=\"M19 3H5c-1.1 0-2 .9-2 2v14c0 1.1.9 2 2 2h14c1.1 0 2-.9 2-2V5c0-1.1-.9-2-2-2zM9 17H7v-7h2v7zm4 0h-2V7h2v10zm4 0h-2v-4h2v4z\"/>\n",
              "    </g>\n",
              "</svg>\n",
              "  </button>\n",
              "\n",
              "<style>\n",
              "  .colab-df-quickchart {\n",
              "      --bg-color: #E8F0FE;\n",
              "      --fill-color: #1967D2;\n",
              "      --hover-bg-color: #E2EBFA;\n",
              "      --hover-fill-color: #174EA6;\n",
              "      --disabled-fill-color: #AAA;\n",
              "      --disabled-bg-color: #DDD;\n",
              "  }\n",
              "\n",
              "  [theme=dark] .colab-df-quickchart {\n",
              "      --bg-color: #3B4455;\n",
              "      --fill-color: #D2E3FC;\n",
              "      --hover-bg-color: #434B5C;\n",
              "      --hover-fill-color: #FFFFFF;\n",
              "      --disabled-bg-color: #3B4455;\n",
              "      --disabled-fill-color: #666;\n",
              "  }\n",
              "\n",
              "  .colab-df-quickchart {\n",
              "    background-color: var(--bg-color);\n",
              "    border: none;\n",
              "    border-radius: 50%;\n",
              "    cursor: pointer;\n",
              "    display: none;\n",
              "    fill: var(--fill-color);\n",
              "    height: 32px;\n",
              "    padding: 0;\n",
              "    width: 32px;\n",
              "  }\n",
              "\n",
              "  .colab-df-quickchart:hover {\n",
              "    background-color: var(--hover-bg-color);\n",
              "    box-shadow: 0 1px 2px rgba(60, 64, 67, 0.3), 0 1px 3px 1px rgba(60, 64, 67, 0.15);\n",
              "    fill: var(--button-hover-fill-color);\n",
              "  }\n",
              "\n",
              "  .colab-df-quickchart-complete:disabled,\n",
              "  .colab-df-quickchart-complete:disabled:hover {\n",
              "    background-color: var(--disabled-bg-color);\n",
              "    fill: var(--disabled-fill-color);\n",
              "    box-shadow: none;\n",
              "  }\n",
              "\n",
              "  .colab-df-spinner {\n",
              "    border: 2px solid var(--fill-color);\n",
              "    border-color: transparent;\n",
              "    border-bottom-color: var(--fill-color);\n",
              "    animation:\n",
              "      spin 1s steps(1) infinite;\n",
              "  }\n",
              "\n",
              "  @keyframes spin {\n",
              "    0% {\n",
              "      border-color: transparent;\n",
              "      border-bottom-color: var(--fill-color);\n",
              "      border-left-color: var(--fill-color);\n",
              "    }\n",
              "    20% {\n",
              "      border-color: transparent;\n",
              "      border-left-color: var(--fill-color);\n",
              "      border-top-color: var(--fill-color);\n",
              "    }\n",
              "    30% {\n",
              "      border-color: transparent;\n",
              "      border-left-color: var(--fill-color);\n",
              "      border-top-color: var(--fill-color);\n",
              "      border-right-color: var(--fill-color);\n",
              "    }\n",
              "    40% {\n",
              "      border-color: transparent;\n",
              "      border-right-color: var(--fill-color);\n",
              "      border-top-color: var(--fill-color);\n",
              "    }\n",
              "    60% {\n",
              "      border-color: transparent;\n",
              "      border-right-color: var(--fill-color);\n",
              "    }\n",
              "    80% {\n",
              "      border-color: transparent;\n",
              "      border-right-color: var(--fill-color);\n",
              "      border-bottom-color: var(--fill-color);\n",
              "    }\n",
              "    90% {\n",
              "      border-color: transparent;\n",
              "      border-bottom-color: var(--fill-color);\n",
              "    }\n",
              "  }\n",
              "</style>\n",
              "\n",
              "  <script>\n",
              "    async function quickchart(key) {\n",
              "      const quickchartButtonEl =\n",
              "        document.querySelector('#' + key + ' button');\n",
              "      quickchartButtonEl.disabled = true;  // To prevent multiple clicks.\n",
              "      quickchartButtonEl.classList.add('colab-df-spinner');\n",
              "      try {\n",
              "        const charts = await google.colab.kernel.invokeFunction(\n",
              "            'suggestCharts', [key], {});\n",
              "      } catch (error) {\n",
              "        console.error('Error during call to suggestCharts:', error);\n",
              "      }\n",
              "      quickchartButtonEl.classList.remove('colab-df-spinner');\n",
              "      quickchartButtonEl.classList.add('colab-df-quickchart-complete');\n",
              "    }\n",
              "    (() => {\n",
              "      let quickchartButtonEl =\n",
              "        document.querySelector('#df-7297c93e-e3a4-4fd0-960f-5b1c9c7fdfb7 button');\n",
              "      quickchartButtonEl.style.display =\n",
              "        google.colab.kernel.accessAllowed ? 'block' : 'none';\n",
              "    })();\n",
              "  </script>\n",
              "</div>\n",
              "\n",
              "  <div id=\"id_02e795f6-e0fc-485e-b823-22ea6c7c8914\">\n",
              "    <style>\n",
              "      .colab-df-generate {\n",
              "        background-color: #E8F0FE;\n",
              "        border: none;\n",
              "        border-radius: 50%;\n",
              "        cursor: pointer;\n",
              "        display: none;\n",
              "        fill: #1967D2;\n",
              "        height: 32px;\n",
              "        padding: 0 0 0 0;\n",
              "        width: 32px;\n",
              "      }\n",
              "\n",
              "      .colab-df-generate:hover {\n",
              "        background-color: #E2EBFA;\n",
              "        box-shadow: 0px 1px 2px rgba(60, 64, 67, 0.3), 0px 1px 3px 1px rgba(60, 64, 67, 0.15);\n",
              "        fill: #174EA6;\n",
              "      }\n",
              "\n",
              "      [theme=dark] .colab-df-generate {\n",
              "        background-color: #3B4455;\n",
              "        fill: #D2E3FC;\n",
              "      }\n",
              "\n",
              "      [theme=dark] .colab-df-generate:hover {\n",
              "        background-color: #434B5C;\n",
              "        box-shadow: 0px 1px 3px 1px rgba(0, 0, 0, 0.15);\n",
              "        filter: drop-shadow(0px 1px 2px rgba(0, 0, 0, 0.3));\n",
              "        fill: #FFFFFF;\n",
              "      }\n",
              "    </style>\n",
              "    <button class=\"colab-df-generate\" onclick=\"generateWithVariable('df_binary')\"\n",
              "            title=\"Generate code using this dataframe.\"\n",
              "            style=\"display:none;\">\n",
              "\n",
              "  <svg xmlns=\"http://www.w3.org/2000/svg\" height=\"24px\"viewBox=\"0 0 24 24\"\n",
              "       width=\"24px\">\n",
              "    <path d=\"M7,19H8.4L18.45,9,17,7.55,7,17.6ZM5,21V16.75L18.45,3.32a2,2,0,0,1,2.83,0l1.4,1.43a1.91,1.91,0,0,1,.58,1.4,1.91,1.91,0,0,1-.58,1.4L9.25,21ZM18.45,9,17,7.55Zm-12,3A5.31,5.31,0,0,0,4.9,8.1,5.31,5.31,0,0,0,1,6.5,5.31,5.31,0,0,0,4.9,4.9,5.31,5.31,0,0,0,6.5,1,5.31,5.31,0,0,0,8.1,4.9,5.31,5.31,0,0,0,12,6.5,5.46,5.46,0,0,0,6.5,12Z\"/>\n",
              "  </svg>\n",
              "    </button>\n",
              "    <script>\n",
              "      (() => {\n",
              "      const buttonEl =\n",
              "        document.querySelector('#id_02e795f6-e0fc-485e-b823-22ea6c7c8914 button.colab-df-generate');\n",
              "      buttonEl.style.display =\n",
              "        google.colab.kernel.accessAllowed ? 'block' : 'none';\n",
              "\n",
              "      buttonEl.onclick = () => {\n",
              "        google.colab.notebook.generateWithVariable('df_binary');\n",
              "      }\n",
              "      })();\n",
              "    </script>\n",
              "  </div>\n",
              "\n",
              "    </div>\n",
              "  </div>\n"
            ],
            "application/vnd.google.colaboratory.intrinsic+json": {
              "type": "dataframe",
              "variable_name": "df_binary",
              "summary": "{\n  \"name\": \"df_binary\",\n  \"rows\": 1579,\n  \"fields\": [\n    {\n      \"column\": \"System_Calls\",\n      \"properties\": {\n        \"dtype\": \"object\",\n        \"semantic_type\": \"\",\n        \"description\": \"\"\n      }\n    },\n    {\n      \"column\": \"Label\",\n      \"properties\": {\n        \"dtype\": \"number\",\n        \"std\": 0,\n        \"min\": 0,\n        \"max\": 1,\n        \"num_unique_values\": 2,\n        \"samples\": [\n          1,\n          0\n        ],\n        \"semantic_type\": \"\",\n        \"description\": \"\"\n      }\n    }\n  ]\n}"
            }
          },
          "metadata": {},
          "execution_count": 8
        }
      ],
      "source": [
        "df_binary = pd.read_csv('system_calls_with_labels.csv')\n",
        "\n",
        "#Set Label to 1 where Label is not 0 for binary classification(label 0 - normal sequences, label 1 - attack sequences)\n",
        "df_binary.loc[df['Label'] != 0, 'Label'] = 1\n",
        "\n",
        "label_counts = df_binary['Label'].value_counts()\n",
        "print(\"\\nUnique attack types and their counts:\")\n",
        "print(label_counts)\n",
        "\n",
        "#Convert the System_Calls from string representation to lists of strings, and strip spaces\n",
        "df_binary['System_Calls'] = df_binary['System_Calls'].apply(lambda x: [elem.strip() for elem in x.strip('[]').split(',')])\n",
        "\n",
        "#Drop the Attack_Type column\n",
        "df_binary = df_binary.drop(columns=['Attack_Type'])\n",
        "\n",
        "df_binary"
      ]
    },
    {
      "cell_type": "markdown",
      "source": [
        "## Set aside some attack instances in validation dataset"
      ],
      "metadata": {
        "id": "BNCto2mGmaBP"
      }
    },
    {
      "cell_type": "code",
      "source": [
        "#Sample attack instances for validation\n",
        "num_attack_instances = 100\n",
        "attack_df = df_binary[df_binary['Label'] != 0].sample(n=num_attack_instances, random_state=42)\n",
        "\n",
        "#Remove sampled attack instances from the main dataset\n",
        "df_binary = df_binary.drop(attack_df.index)\n",
        "\n",
        "#Extract system calls and labels from the sampled attack instances\n",
        "attack_traces = attack_df['System_Calls'].tolist()\n",
        "attack_labels = attack_df['Label'].tolist()\n",
        "\n",
        "val_binary = val.copy()\n",
        "\n",
        "#Append attack instances to the validation dataset\n",
        "val_binary.extend(attack_traces)"
      ],
      "metadata": {
        "id": "7b4HdvSkmfJL"
      },
      "execution_count": 9,
      "outputs": []
    },
    {
      "cell_type": "markdown",
      "metadata": {
        "id": "5oxsSCBindRC"
      },
      "source": [
        "## Create custom Word2Vec model"
      ]
    },
    {
      "cell_type": "markdown",
      "metadata": {
        "id": "h0rpIBaNoXwT"
      },
      "source": [
        "### Create n-grams(n = 3 - trigram)"
      ]
    },
    {
      "cell_type": "code",
      "execution_count": 10,
      "metadata": {
        "id": "H7K61IGanOLr"
      },
      "outputs": [],
      "source": [
        "review_text = df_binary['System_Calls']\n",
        "\n",
        "#Create bigrams\n",
        "bigram = Phrases(review_text, min_count=10, threshold=5)  # Adjusted min_count and threshold\n",
        "bigram_phraser = Phraser(bigram)\n",
        "\n",
        "#Apply the bigram transformation\n",
        "sequences_with_bigrams = [bigram_phraser[sequence] for sequence in review_text]\n",
        "\n",
        "#Create trigrams\n",
        "trigram = Phrases(sequences_with_bigrams, min_count=10, threshold=5)\n",
        "trigram_phraser = Phraser(trigram)\n",
        "\n",
        "#Apply trigrams\n",
        "sequences_with_trigrams = [trigram_phraser[sequence] for sequence in sequences_with_bigrams]"
      ]
    },
    {
      "cell_type": "markdown",
      "metadata": {
        "id": "KNbd_fRhorjX"
      },
      "source": [
        "### Define and train the Word2Vec model"
      ]
    },
    {
      "cell_type": "code",
      "execution_count": 11,
      "metadata": {
        "colab": {
          "base_uri": "https://localhost:8080/"
        },
        "id": "BU8An2QCoALu",
        "outputId": "2e5be59d-110c-4b99-fcd7-0b4bd5613ae2"
      },
      "outputs": [
        {
          "output_type": "stream",
          "name": "stdout",
          "text": [
            "Word2Vec<vocab=149, vector_size=100, alpha=0.025>\n"
          ]
        }
      ],
      "source": [
        "custom_word2vec = Word2Vec(\n",
        "    vector_size=100,   #Embedding size\n",
        "    window=15,         #Context window size\n",
        "    min_count=5,       #Minimum frequency for system calls to be included\n",
        "    workers=10,        #Number of parallel workers\n",
        "    sg=0               #cbow\n",
        ")\n",
        "\n",
        "custom_word2vec.build_vocab(sequences_with_trigrams)\n",
        "custom_word2vec.train(sequences_with_trigrams, total_examples=len(sequences_with_trigrams), epochs=35)\n",
        "\n",
        "print(custom_word2vec)"
      ]
    },
    {
      "cell_type": "markdown",
      "metadata": {
        "id": "DpEkio2spi4z"
      },
      "source": [
        "## Create the training, testing and validation datasets"
      ]
    },
    {
      "cell_type": "code",
      "execution_count": 12,
      "metadata": {
        "colab": {
          "base_uri": "https://localhost:8080/"
        },
        "id": "FCJs3A3XpHKx",
        "outputId": "8b6ff654-f227-4d24-bb06-0448bedc5a60"
      },
      "outputs": [
        {
          "output_type": "stream",
          "name": "stdout",
          "text": [
            "Training data dimensions: (1183, 1000)\n",
            "Testing data dimensions: (296, 1000)\n",
            "Validation data dimensions: (4472, 1000)\n"
          ]
        }
      ],
      "source": [
        "#Split data into training and testing\n",
        "train_data, test_data = train_test_split(df_binary, test_size=0.20, random_state=42)\n",
        "\n",
        "#Tokenize text\n",
        "tokenizer = Tokenizer()\n",
        "tokenizer.fit_on_texts(train_data['System_Calls'])\n",
        "train_sequences = tokenizer.texts_to_sequences(train_data['System_Calls'])\n",
        "test_sequences = tokenizer.texts_to_sequences(test_data['System_Calls'])\n",
        "\n",
        "val_sequences_binary = tokenizer.texts_to_sequences(val_binary)\n",
        "\n",
        "#Padding sequences\n",
        "max_len = 1000  # 90th percentile of max length\n",
        "X_train = pad_sequences(train_sequences, maxlen=max_len, padding='post')\n",
        "X_test = pad_sequences(test_sequences, maxlen=max_len, padding='post')\n",
        "y_train = train_data['Label']\n",
        "y_test = test_data['Label']\n",
        "\n",
        "X_val_binary = pad_sequences(val_sequences_binary, maxlen=max_len, padding='post')\n",
        "y_val_binary = np.zeros(4372)\n",
        "\n",
        "y_val_binary = np.append(y_val_binary, attack_labels)\n",
        "\n",
        "#Shuffle validation data and labels\n",
        "X_val_binary, y_val_binary = shuffle(X_val_binary, y_val_binary, random_state=42)\n",
        "\n",
        "print(\"Training data dimensions:\",X_train.shape)\n",
        "print(\"Testing data dimensions:\",X_test.shape)\n",
        "print(\"Validation data dimensions:\",X_val_binary.shape)"
      ]
    },
    {
      "cell_type": "markdown",
      "metadata": {
        "id": "1mr3nLsDsI5m"
      },
      "source": [
        "### Create embedding matrix"
      ]
    },
    {
      "cell_type": "code",
      "execution_count": 13,
      "metadata": {
        "id": "_yS4kT9gsGZX"
      },
      "outputs": [],
      "source": [
        "vocab_size = len(tokenizer.word_index) + 1\n",
        "embedding_dim = 100\n",
        "\n",
        "#Prepare embedding matrix\n",
        "embedding_matrix = np.zeros((vocab_size, embedding_dim))\n",
        "for word, i in tokenizer.word_index.items():\n",
        "    if word in custom_word2vec.wv:\n",
        "        embedding_matrix[i] = custom_word2vec.wv[word]"
      ]
    },
    {
      "cell_type": "markdown",
      "metadata": {
        "id": "qdkZ3ljArrfD"
      },
      "source": [
        "## Defining the model architecture"
      ]
    },
    {
      "cell_type": "code",
      "execution_count": 14,
      "metadata": {
        "colab": {
          "base_uri": "https://localhost:8080/",
          "height": 505
        },
        "id": "kzi41eYkmlvM",
        "outputId": "066deddf-e28a-4cf9-e014-459af5bf08ef"
      },
      "outputs": [
        {
          "output_type": "stream",
          "name": "stderr",
          "text": [
            "/usr/local/lib/python3.10/dist-packages/keras/src/layers/core/embedding.py:90: UserWarning: Argument `input_length` is deprecated. Just remove it.\n",
            "  warnings.warn(\n"
          ]
        },
        {
          "output_type": "display_data",
          "data": {
            "text/plain": [
              "\u001b[1mModel: \"sequential\"\u001b[0m\n"
            ],
            "text/html": [
              "<pre style=\"white-space:pre;overflow-x:auto;line-height:normal;font-family:Menlo,'DejaVu Sans Mono',consolas,'Courier New',monospace\"><span style=\"font-weight: bold\">Model: \"sequential\"</span>\n",
              "</pre>\n"
            ]
          },
          "metadata": {}
        },
        {
          "output_type": "display_data",
          "data": {
            "text/plain": [
              "┏━━━━━━━━━━━━━━━━━━━━━━━━━━━━━━━━━━━━━━┳━━━━━━━━━━━━━━━━━━━━━━━━━━━━━┳━━━━━━━━━━━━━━━━━┓\n",
              "┃\u001b[1m \u001b[0m\u001b[1mLayer (type)                        \u001b[0m\u001b[1m \u001b[0m┃\u001b[1m \u001b[0m\u001b[1mOutput Shape               \u001b[0m\u001b[1m \u001b[0m┃\u001b[1m \u001b[0m\u001b[1m        Param #\u001b[0m\u001b[1m \u001b[0m┃\n",
              "┡━━━━━━━━━━━━━━━━━━━━━━━━━━━━━━━━━━━━━━╇━━━━━━━━━━━━━━━━━━━━━━━━━━━━━╇━━━━━━━━━━━━━━━━━┩\n",
              "│ embedding (\u001b[38;5;33mEmbedding\u001b[0m)                │ ?                           │          \u001b[38;5;34m14,800\u001b[0m │\n",
              "├──────────────────────────────────────┼─────────────────────────────┼─────────────────┤\n",
              "│ bidirectional (\u001b[38;5;33mBidirectional\u001b[0m)        │ ?                           │     \u001b[38;5;34m0\u001b[0m (unbuilt) │\n",
              "├──────────────────────────────────────┼─────────────────────────────┼─────────────────┤\n",
              "│ batch_normalization                  │ ?                           │     \u001b[38;5;34m0\u001b[0m (unbuilt) │\n",
              "│ (\u001b[38;5;33mBatchNormalization\u001b[0m)                 │                             │                 │\n",
              "├──────────────────────────────────────┼─────────────────────────────┼─────────────────┤\n",
              "│ dropout (\u001b[38;5;33mDropout\u001b[0m)                    │ ?                           │     \u001b[38;5;34m0\u001b[0m (unbuilt) │\n",
              "├──────────────────────────────────────┼─────────────────────────────┼─────────────────┤\n",
              "│ bidirectional_1 (\u001b[38;5;33mBidirectional\u001b[0m)      │ ?                           │     \u001b[38;5;34m0\u001b[0m (unbuilt) │\n",
              "├──────────────────────────────────────┼─────────────────────────────┼─────────────────┤\n",
              "│ batch_normalization_1                │ ?                           │     \u001b[38;5;34m0\u001b[0m (unbuilt) │\n",
              "│ (\u001b[38;5;33mBatchNormalization\u001b[0m)                 │                             │                 │\n",
              "├──────────────────────────────────────┼─────────────────────────────┼─────────────────┤\n",
              "│ dense (\u001b[38;5;33mDense\u001b[0m)                        │ ?                           │     \u001b[38;5;34m0\u001b[0m (unbuilt) │\n",
              "├──────────────────────────────────────┼─────────────────────────────┼─────────────────┤\n",
              "│ dropout_1 (\u001b[38;5;33mDropout\u001b[0m)                  │ ?                           │     \u001b[38;5;34m0\u001b[0m (unbuilt) │\n",
              "├──────────────────────────────────────┼─────────────────────────────┼─────────────────┤\n",
              "│ dense_1 (\u001b[38;5;33mDense\u001b[0m)                      │ ?                           │     \u001b[38;5;34m0\u001b[0m (unbuilt) │\n",
              "└──────────────────────────────────────┴─────────────────────────────┴─────────────────┘\n"
            ],
            "text/html": [
              "<pre style=\"white-space:pre;overflow-x:auto;line-height:normal;font-family:Menlo,'DejaVu Sans Mono',consolas,'Courier New',monospace\">┏━━━━━━━━━━━━━━━━━━━━━━━━━━━━━━━━━━━━━━┳━━━━━━━━━━━━━━━━━━━━━━━━━━━━━┳━━━━━━━━━━━━━━━━━┓\n",
              "┃<span style=\"font-weight: bold\"> Layer (type)                         </span>┃<span style=\"font-weight: bold\"> Output Shape                </span>┃<span style=\"font-weight: bold\">         Param # </span>┃\n",
              "┡━━━━━━━━━━━━━━━━━━━━━━━━━━━━━━━━━━━━━━╇━━━━━━━━━━━━━━━━━━━━━━━━━━━━━╇━━━━━━━━━━━━━━━━━┩\n",
              "│ embedding (<span style=\"color: #0087ff; text-decoration-color: #0087ff\">Embedding</span>)                │ ?                           │          <span style=\"color: #00af00; text-decoration-color: #00af00\">14,800</span> │\n",
              "├──────────────────────────────────────┼─────────────────────────────┼─────────────────┤\n",
              "│ bidirectional (<span style=\"color: #0087ff; text-decoration-color: #0087ff\">Bidirectional</span>)        │ ?                           │     <span style=\"color: #00af00; text-decoration-color: #00af00\">0</span> (unbuilt) │\n",
              "├──────────────────────────────────────┼─────────────────────────────┼─────────────────┤\n",
              "│ batch_normalization                  │ ?                           │     <span style=\"color: #00af00; text-decoration-color: #00af00\">0</span> (unbuilt) │\n",
              "│ (<span style=\"color: #0087ff; text-decoration-color: #0087ff\">BatchNormalization</span>)                 │                             │                 │\n",
              "├──────────────────────────────────────┼─────────────────────────────┼─────────────────┤\n",
              "│ dropout (<span style=\"color: #0087ff; text-decoration-color: #0087ff\">Dropout</span>)                    │ ?                           │     <span style=\"color: #00af00; text-decoration-color: #00af00\">0</span> (unbuilt) │\n",
              "├──────────────────────────────────────┼─────────────────────────────┼─────────────────┤\n",
              "│ bidirectional_1 (<span style=\"color: #0087ff; text-decoration-color: #0087ff\">Bidirectional</span>)      │ ?                           │     <span style=\"color: #00af00; text-decoration-color: #00af00\">0</span> (unbuilt) │\n",
              "├──────────────────────────────────────┼─────────────────────────────┼─────────────────┤\n",
              "│ batch_normalization_1                │ ?                           │     <span style=\"color: #00af00; text-decoration-color: #00af00\">0</span> (unbuilt) │\n",
              "│ (<span style=\"color: #0087ff; text-decoration-color: #0087ff\">BatchNormalization</span>)                 │                             │                 │\n",
              "├──────────────────────────────────────┼─────────────────────────────┼─────────────────┤\n",
              "│ dense (<span style=\"color: #0087ff; text-decoration-color: #0087ff\">Dense</span>)                        │ ?                           │     <span style=\"color: #00af00; text-decoration-color: #00af00\">0</span> (unbuilt) │\n",
              "├──────────────────────────────────────┼─────────────────────────────┼─────────────────┤\n",
              "│ dropout_1 (<span style=\"color: #0087ff; text-decoration-color: #0087ff\">Dropout</span>)                  │ ?                           │     <span style=\"color: #00af00; text-decoration-color: #00af00\">0</span> (unbuilt) │\n",
              "├──────────────────────────────────────┼─────────────────────────────┼─────────────────┤\n",
              "│ dense_1 (<span style=\"color: #0087ff; text-decoration-color: #0087ff\">Dense</span>)                      │ ?                           │     <span style=\"color: #00af00; text-decoration-color: #00af00\">0</span> (unbuilt) │\n",
              "└──────────────────────────────────────┴─────────────────────────────┴─────────────────┘\n",
              "</pre>\n"
            ]
          },
          "metadata": {}
        },
        {
          "output_type": "display_data",
          "data": {
            "text/plain": [
              "\u001b[1m Total params: \u001b[0m\u001b[38;5;34m14,800\u001b[0m (57.81 KB)\n"
            ],
            "text/html": [
              "<pre style=\"white-space:pre;overflow-x:auto;line-height:normal;font-family:Menlo,'DejaVu Sans Mono',consolas,'Courier New',monospace\"><span style=\"font-weight: bold\"> Total params: </span><span style=\"color: #00af00; text-decoration-color: #00af00\">14,800</span> (57.81 KB)\n",
              "</pre>\n"
            ]
          },
          "metadata": {}
        },
        {
          "output_type": "display_data",
          "data": {
            "text/plain": [
              "\u001b[1m Trainable params: \u001b[0m\u001b[38;5;34m0\u001b[0m (0.00 B)\n"
            ],
            "text/html": [
              "<pre style=\"white-space:pre;overflow-x:auto;line-height:normal;font-family:Menlo,'DejaVu Sans Mono',consolas,'Courier New',monospace\"><span style=\"font-weight: bold\"> Trainable params: </span><span style=\"color: #00af00; text-decoration-color: #00af00\">0</span> (0.00 B)\n",
              "</pre>\n"
            ]
          },
          "metadata": {}
        },
        {
          "output_type": "display_data",
          "data": {
            "text/plain": [
              "\u001b[1m Non-trainable params: \u001b[0m\u001b[38;5;34m14,800\u001b[0m (57.81 KB)\n"
            ],
            "text/html": [
              "<pre style=\"white-space:pre;overflow-x:auto;line-height:normal;font-family:Menlo,'DejaVu Sans Mono',consolas,'Courier New',monospace\"><span style=\"font-weight: bold\"> Non-trainable params: </span><span style=\"color: #00af00; text-decoration-color: #00af00\">14,800</span> (57.81 KB)\n",
              "</pre>\n"
            ]
          },
          "metadata": {}
        }
      ],
      "source": [
        "#Build Bidirectional LSTM model with Word2Vec embeddings\n",
        "model1 = Sequential()\n",
        "\n",
        "#Add the embedding layer using the pre-trained Word2Vec embeddings\n",
        "model1.add(Embedding(input_dim=vocab_size, output_dim=embedding_dim,\n",
        "                     weights=[embedding_matrix], input_length=1000, trainable=False))\n",
        "\n",
        "#Add Bidirectional LSTM layers\n",
        "model1.add(Bidirectional(LSTM(128, return_sequences=True)))  #Bidirectional LSTM layerr\n",
        "model1.add(BatchNormalization())\n",
        "model1.add(Dropout(0.5))  #Dropout for regularization\n",
        "model1.add(Bidirectional(LSTM(64)))\n",
        "model1.add(BatchNormalization())\n",
        "\n",
        "#Add fully connected layers\n",
        "model1.add(Dense(64, activation='relu'))\n",
        "model1.add(Dropout(0.4))\n",
        "\n",
        "#Output layer\n",
        "model1.add(Dense(1, activation='sigmoid'))\n",
        "\n",
        "#Compile the model\n",
        "optimizer = Adam(learning_rate=0.0005)\n",
        "model1.compile(optimizer=optimizer, loss='binary_crossentropy', metrics=['accuracy'])\n",
        "\n",
        "#Print the model summary\n",
        "model1.summary()"
      ]
    },
    {
      "cell_type": "code",
      "execution_count": 15,
      "metadata": {
        "id": "Sa0pN0alSepL"
      },
      "outputs": [],
      "source": [
        "#generating model architecture diagram\n",
        "# from keras.utils import plot_model\n",
        "\n",
        "# # Assuming `model` is your Keras model\n",
        "# plot_model(model1, to_file='model.png', show_shapes=True, show_layer_names=True)"
      ]
    },
    {
      "cell_type": "code",
      "execution_count": 16,
      "metadata": {
        "colab": {
          "base_uri": "https://localhost:8080/"
        },
        "id": "vBrt54KDtclM",
        "outputId": "34ae1f59-34e8-4b79-8848-0bb2902f4de1"
      },
      "outputs": [
        {
          "output_type": "stream",
          "name": "stdout",
          "text": [
            "Epoch 1/15\n",
            "\u001b[1m19/19\u001b[0m \u001b[32m━━━━━━━━━━━━━━━━━━━━\u001b[0m\u001b[37m\u001b[0m \u001b[1m14s\u001b[0m 204ms/step - accuracy: 0.6018 - loss: 0.7136 - val_accuracy: 0.7500 - val_loss: 0.5754\n",
            "Epoch 2/15\n",
            "\u001b[1m19/19\u001b[0m \u001b[32m━━━━━━━━━━━━━━━━━━━━\u001b[0m\u001b[37m\u001b[0m \u001b[1m4s\u001b[0m 191ms/step - accuracy: 0.7852 - loss: 0.4503 - val_accuracy: 0.7736 - val_loss: 0.5051\n",
            "Epoch 3/15\n",
            "\u001b[1m19/19\u001b[0m \u001b[32m━━━━━━━━━━━━━━━━━━━━\u001b[0m\u001b[37m\u001b[0m \u001b[1m5s\u001b[0m 185ms/step - accuracy: 0.8370 - loss: 0.3426 - val_accuracy: 0.8176 - val_loss: 0.4534\n",
            "Epoch 4/15\n",
            "\u001b[1m19/19\u001b[0m \u001b[32m━━━━━━━━━━━━━━━━━━━━\u001b[0m\u001b[37m\u001b[0m \u001b[1m3s\u001b[0m 178ms/step - accuracy: 0.8750 - loss: 0.2801 - val_accuracy: 0.8345 - val_loss: 0.4023\n",
            "Epoch 5/15\n",
            "\u001b[1m19/19\u001b[0m \u001b[32m━━━━━━━━━━━━━━━━━━━━\u001b[0m\u001b[37m\u001b[0m \u001b[1m3s\u001b[0m 177ms/step - accuracy: 0.8767 - loss: 0.2830 - val_accuracy: 0.8412 - val_loss: 0.3719\n",
            "Epoch 6/15\n",
            "\u001b[1m19/19\u001b[0m \u001b[32m━━━━━━━━━━━━━━━━━━━━\u001b[0m\u001b[37m\u001b[0m \u001b[1m4s\u001b[0m 199ms/step - accuracy: 0.9028 - loss: 0.2385 - val_accuracy: 0.8480 - val_loss: 0.3360\n",
            "Epoch 7/15\n",
            "\u001b[1m19/19\u001b[0m \u001b[32m━━━━━━━━━━━━━━━━━━━━\u001b[0m\u001b[37m\u001b[0m \u001b[1m3s\u001b[0m 179ms/step - accuracy: 0.9234 - loss: 0.1911 - val_accuracy: 0.8581 - val_loss: 0.3121\n",
            "Epoch 8/15\n",
            "\u001b[1m19/19\u001b[0m \u001b[32m━━━━━━━━━━━━━━━━━━━━\u001b[0m\u001b[37m\u001b[0m \u001b[1m3s\u001b[0m 178ms/step - accuracy: 0.9226 - loss: 0.1951 - val_accuracy: 0.8716 - val_loss: 0.2918\n",
            "Epoch 9/15\n",
            "\u001b[1m19/19\u001b[0m \u001b[32m━━━━━━━━━━━━━━━━━━━━\u001b[0m\u001b[37m\u001b[0m \u001b[1m5s\u001b[0m 183ms/step - accuracy: 0.9341 - loss: 0.1569 - val_accuracy: 0.8649 - val_loss: 0.3081\n",
            "Epoch 10/15\n",
            "\u001b[1m19/19\u001b[0m \u001b[32m━━━━━━━━━━━━━━━━━━━━\u001b[0m\u001b[37m\u001b[0m \u001b[1m3s\u001b[0m 183ms/step - accuracy: 0.9458 - loss: 0.1472 - val_accuracy: 0.8919 - val_loss: 0.2637\n",
            "Epoch 11/15\n",
            "\u001b[1m19/19\u001b[0m \u001b[32m━━━━━━━━━━━━━━━━━━━━\u001b[0m\u001b[37m\u001b[0m \u001b[1m3s\u001b[0m 180ms/step - accuracy: 0.9524 - loss: 0.1182 - val_accuracy: 0.8784 - val_loss: 0.3162\n",
            "Epoch 12/15\n",
            "\u001b[1m19/19\u001b[0m \u001b[32m━━━━━━━━━━━━━━━━━━━━\u001b[0m\u001b[37m\u001b[0m \u001b[1m3s\u001b[0m 180ms/step - accuracy: 0.9440 - loss: 0.1383 - val_accuracy: 0.8851 - val_loss: 0.3013\n",
            "Epoch 13/15\n",
            "\u001b[1m19/19\u001b[0m \u001b[32m━━━━━━━━━━━━━━━━━━━━\u001b[0m\u001b[37m\u001b[0m \u001b[1m4s\u001b[0m 188ms/step - accuracy: 0.9325 - loss: 0.1305 - val_accuracy: 0.8986 - val_loss: 0.2994\n",
            "Epoch 14/15\n",
            "\u001b[1m19/19\u001b[0m \u001b[32m━━━━━━━━━━━━━━━━━━━━\u001b[0m\u001b[37m\u001b[0m \u001b[1m3s\u001b[0m 181ms/step - accuracy: 0.9586 - loss: 0.1154 - val_accuracy: 0.8986 - val_loss: 0.3026\n",
            "Epoch 15/15\n",
            "\u001b[1m19/19\u001b[0m \u001b[32m━━━━━━━━━━━━━━━━━━━━\u001b[0m\u001b[37m\u001b[0m \u001b[1m3s\u001b[0m 182ms/step - accuracy: 0.9667 - loss: 0.0929 - val_accuracy: 0.9020 - val_loss: 0.2901\n"
          ]
        },
        {
          "output_type": "execute_result",
          "data": {
            "text/plain": [
              "<keras.src.callbacks.history.History at 0x7b0933caa4d0>"
            ]
          },
          "metadata": {},
          "execution_count": 16
        }
      ],
      "source": [
        "model1.fit(X_train, y_train, epochs=15, batch_size=64, validation_data=(X_test, y_test))"
      ]
    },
    {
      "cell_type": "markdown",
      "metadata": {
        "id": "PuqM4lG7veXx"
      },
      "source": [
        "### Test the trained model on validation dataset"
      ]
    },
    {
      "cell_type": "code",
      "execution_count": 17,
      "metadata": {
        "colab": {
          "base_uri": "https://localhost:8080/"
        },
        "id": "7Zsbxw2FtxS7",
        "outputId": "d05ea952-2e07-484c-b14b-101bb1d4eb3c"
      },
      "outputs": [
        {
          "output_type": "stream",
          "name": "stdout",
          "text": [
            "\u001b[1m140/140\u001b[0m \u001b[32m━━━━━━━━━━━━━━━━━━━━\u001b[0m\u001b[37m\u001b[0m \u001b[1m8s\u001b[0m 56ms/step - accuracy: 0.7994 - loss: 0.8699\n",
            "Validation Accuracy: 0.7989713549613953\n",
            "Validation Loss: 0.8430337309837341\n"
          ]
        }
      ],
      "source": [
        "# Evaluate the model on the validation data\n",
        "loss, accuracy = model1.evaluate(X_val_binary, y_val_binary, verbose=1)\n",
        "\n",
        "print(\"Validation Accuracy:\", accuracy)\n",
        "print(\"Validation Loss:\", loss)"
      ]
    },
    {
      "cell_type": "markdown",
      "metadata": {
        "id": "mrfMtuDNGhrv"
      },
      "source": [
        "# LSTM based multi-class classifier"
      ]
    },
    {
      "cell_type": "markdown",
      "metadata": {
        "id": "fWzn9lXEItcS"
      },
      "source": [
        "## Load and process the dataset"
      ]
    },
    {
      "cell_type": "code",
      "execution_count": 25,
      "metadata": {
        "colab": {
          "base_uri": "https://localhost:8080/"
        },
        "id": "f-ID2f70Gl3T",
        "outputId": "63e9fe9d-448f-47e0-bde3-eede7b6f3adf"
      },
      "outputs": [
        {
          "output_type": "stream",
          "name": "stdout",
          "text": [
            "\n",
            "Unique attack types and their counts:\n",
            "Label\n",
            "0    833\n",
            "3    176\n",
            "2    162\n",
            "1    124\n",
            "6    118\n",
            "5     91\n",
            "4     75\n",
            "Name: count, dtype: int64\n"
          ]
        }
      ],
      "source": [
        "df_multi = pd.read_csv('system_calls_with_labels.csv')\n",
        "\n",
        "label_counts = df_multi['Label'].value_counts()\n",
        "print(\"\\nUnique attack types and their counts:\")\n",
        "print(label_counts)\n",
        "\n",
        "#Convert the System_Calls from string representation to lists of strings, and strip spaces\n",
        "df_multi['System_Calls'] = df_multi['System_Calls'].apply(lambda x: [elem.strip() for elem in x.strip('[]').split(',')])\n",
        "\n",
        "#Drop the Attack_Type column\n",
        "df_multi = df_multi.drop(columns=['Attack_Type'])"
      ]
    },
    {
      "cell_type": "code",
      "source": [
        "df_multi"
      ],
      "metadata": {
        "colab": {
          "base_uri": "https://localhost:8080/",
          "height": 423
        },
        "id": "FEnA6p6DtkBg",
        "outputId": "d6697884-65fa-40ec-cab3-d669b30a8f92"
      },
      "execution_count": 26,
      "outputs": [
        {
          "output_type": "execute_result",
          "data": {
            "text/plain": [
              "                                           System_Calls  Label\n",
              "0     [240, 311, 78, 240, 120, 221, 33, 120, 168, 24...      0\n",
              "1     [6, 78, 4, 118, 38, 197, 6, 196, 233, 196, 15,...      0\n",
              "2     [6, 11, 45, 33, 192, 33, 5, 197, 192, 6, 33, 5...      0\n",
              "3     [6, 91, 11, 45, 221, 221, 221, 33, 33, 192, 33...      0\n",
              "4     [174, 174, 174, 174, 174, 174, 221, 221, 221, ...      0\n",
              "...                                                 ...    ...\n",
              "1574  [3, 168, 168, 168, 265, 168, 3, 168, 265, 168,...      5\n",
              "1575  [162, 162, 162, 162, 114, 162, 162, 114, 162, ...      5\n",
              "1576  [142, 265, 265, 104, 3, 3, 175, 175, 175, 175,...      5\n",
              "1577  [168, 3, 168, 265, 168, 168, 265, 168, 168, 3,...      5\n",
              "1578  [265, 168, 168, 168, 168, 265, 168, 168, 265, ...      5\n",
              "\n",
              "[1579 rows x 2 columns]"
            ],
            "text/html": [
              "\n",
              "  <div id=\"df-230ee3ca-2b92-4e9f-9f89-11392be5488d\" class=\"colab-df-container\">\n",
              "    <div>\n",
              "<style scoped>\n",
              "    .dataframe tbody tr th:only-of-type {\n",
              "        vertical-align: middle;\n",
              "    }\n",
              "\n",
              "    .dataframe tbody tr th {\n",
              "        vertical-align: top;\n",
              "    }\n",
              "\n",
              "    .dataframe thead th {\n",
              "        text-align: right;\n",
              "    }\n",
              "</style>\n",
              "<table border=\"1\" class=\"dataframe\">\n",
              "  <thead>\n",
              "    <tr style=\"text-align: right;\">\n",
              "      <th></th>\n",
              "      <th>System_Calls</th>\n",
              "      <th>Label</th>\n",
              "    </tr>\n",
              "  </thead>\n",
              "  <tbody>\n",
              "    <tr>\n",
              "      <th>0</th>\n",
              "      <td>[240, 311, 78, 240, 120, 221, 33, 120, 168, 24...</td>\n",
              "      <td>0</td>\n",
              "    </tr>\n",
              "    <tr>\n",
              "      <th>1</th>\n",
              "      <td>[6, 78, 4, 118, 38, 197, 6, 196, 233, 196, 15,...</td>\n",
              "      <td>0</td>\n",
              "    </tr>\n",
              "    <tr>\n",
              "      <th>2</th>\n",
              "      <td>[6, 11, 45, 33, 192, 33, 5, 197, 192, 6, 33, 5...</td>\n",
              "      <td>0</td>\n",
              "    </tr>\n",
              "    <tr>\n",
              "      <th>3</th>\n",
              "      <td>[6, 91, 11, 45, 221, 221, 221, 33, 33, 192, 33...</td>\n",
              "      <td>0</td>\n",
              "    </tr>\n",
              "    <tr>\n",
              "      <th>4</th>\n",
              "      <td>[174, 174, 174, 174, 174, 174, 221, 221, 221, ...</td>\n",
              "      <td>0</td>\n",
              "    </tr>\n",
              "    <tr>\n",
              "      <th>...</th>\n",
              "      <td>...</td>\n",
              "      <td>...</td>\n",
              "    </tr>\n",
              "    <tr>\n",
              "      <th>1574</th>\n",
              "      <td>[3, 168, 168, 168, 265, 168, 3, 168, 265, 168,...</td>\n",
              "      <td>5</td>\n",
              "    </tr>\n",
              "    <tr>\n",
              "      <th>1575</th>\n",
              "      <td>[162, 162, 162, 162, 114, 162, 162, 114, 162, ...</td>\n",
              "      <td>5</td>\n",
              "    </tr>\n",
              "    <tr>\n",
              "      <th>1576</th>\n",
              "      <td>[142, 265, 265, 104, 3, 3, 175, 175, 175, 175,...</td>\n",
              "      <td>5</td>\n",
              "    </tr>\n",
              "    <tr>\n",
              "      <th>1577</th>\n",
              "      <td>[168, 3, 168, 265, 168, 168, 265, 168, 168, 3,...</td>\n",
              "      <td>5</td>\n",
              "    </tr>\n",
              "    <tr>\n",
              "      <th>1578</th>\n",
              "      <td>[265, 168, 168, 168, 168, 265, 168, 168, 265, ...</td>\n",
              "      <td>5</td>\n",
              "    </tr>\n",
              "  </tbody>\n",
              "</table>\n",
              "<p>1579 rows × 2 columns</p>\n",
              "</div>\n",
              "    <div class=\"colab-df-buttons\">\n",
              "\n",
              "  <div class=\"colab-df-container\">\n",
              "    <button class=\"colab-df-convert\" onclick=\"convertToInteractive('df-230ee3ca-2b92-4e9f-9f89-11392be5488d')\"\n",
              "            title=\"Convert this dataframe to an interactive table.\"\n",
              "            style=\"display:none;\">\n",
              "\n",
              "  <svg xmlns=\"http://www.w3.org/2000/svg\" height=\"24px\" viewBox=\"0 -960 960 960\">\n",
              "    <path d=\"M120-120v-720h720v720H120Zm60-500h600v-160H180v160Zm220 220h160v-160H400v160Zm0 220h160v-160H400v160ZM180-400h160v-160H180v160Zm440 0h160v-160H620v160ZM180-180h160v-160H180v160Zm440 0h160v-160H620v160Z\"/>\n",
              "  </svg>\n",
              "    </button>\n",
              "\n",
              "  <style>\n",
              "    .colab-df-container {\n",
              "      display:flex;\n",
              "      gap: 12px;\n",
              "    }\n",
              "\n",
              "    .colab-df-convert {\n",
              "      background-color: #E8F0FE;\n",
              "      border: none;\n",
              "      border-radius: 50%;\n",
              "      cursor: pointer;\n",
              "      display: none;\n",
              "      fill: #1967D2;\n",
              "      height: 32px;\n",
              "      padding: 0 0 0 0;\n",
              "      width: 32px;\n",
              "    }\n",
              "\n",
              "    .colab-df-convert:hover {\n",
              "      background-color: #E2EBFA;\n",
              "      box-shadow: 0px 1px 2px rgba(60, 64, 67, 0.3), 0px 1px 3px 1px rgba(60, 64, 67, 0.15);\n",
              "      fill: #174EA6;\n",
              "    }\n",
              "\n",
              "    .colab-df-buttons div {\n",
              "      margin-bottom: 4px;\n",
              "    }\n",
              "\n",
              "    [theme=dark] .colab-df-convert {\n",
              "      background-color: #3B4455;\n",
              "      fill: #D2E3FC;\n",
              "    }\n",
              "\n",
              "    [theme=dark] .colab-df-convert:hover {\n",
              "      background-color: #434B5C;\n",
              "      box-shadow: 0px 1px 3px 1px rgba(0, 0, 0, 0.15);\n",
              "      filter: drop-shadow(0px 1px 2px rgba(0, 0, 0, 0.3));\n",
              "      fill: #FFFFFF;\n",
              "    }\n",
              "  </style>\n",
              "\n",
              "    <script>\n",
              "      const buttonEl =\n",
              "        document.querySelector('#df-230ee3ca-2b92-4e9f-9f89-11392be5488d button.colab-df-convert');\n",
              "      buttonEl.style.display =\n",
              "        google.colab.kernel.accessAllowed ? 'block' : 'none';\n",
              "\n",
              "      async function convertToInteractive(key) {\n",
              "        const element = document.querySelector('#df-230ee3ca-2b92-4e9f-9f89-11392be5488d');\n",
              "        const dataTable =\n",
              "          await google.colab.kernel.invokeFunction('convertToInteractive',\n",
              "                                                    [key], {});\n",
              "        if (!dataTable) return;\n",
              "\n",
              "        const docLinkHtml = 'Like what you see? Visit the ' +\n",
              "          '<a target=\"_blank\" href=https://colab.research.google.com/notebooks/data_table.ipynb>data table notebook</a>'\n",
              "          + ' to learn more about interactive tables.';\n",
              "        element.innerHTML = '';\n",
              "        dataTable['output_type'] = 'display_data';\n",
              "        await google.colab.output.renderOutput(dataTable, element);\n",
              "        const docLink = document.createElement('div');\n",
              "        docLink.innerHTML = docLinkHtml;\n",
              "        element.appendChild(docLink);\n",
              "      }\n",
              "    </script>\n",
              "  </div>\n",
              "\n",
              "\n",
              "<div id=\"df-8ca273c3-d188-4fa0-a510-bf540369c539\">\n",
              "  <button class=\"colab-df-quickchart\" onclick=\"quickchart('df-8ca273c3-d188-4fa0-a510-bf540369c539')\"\n",
              "            title=\"Suggest charts\"\n",
              "            style=\"display:none;\">\n",
              "\n",
              "<svg xmlns=\"http://www.w3.org/2000/svg\" height=\"24px\"viewBox=\"0 0 24 24\"\n",
              "     width=\"24px\">\n",
              "    <g>\n",
              "        <path d=\"M19 3H5c-1.1 0-2 .9-2 2v14c0 1.1.9 2 2 2h14c1.1 0 2-.9 2-2V5c0-1.1-.9-2-2-2zM9 17H7v-7h2v7zm4 0h-2V7h2v10zm4 0h-2v-4h2v4z\"/>\n",
              "    </g>\n",
              "</svg>\n",
              "  </button>\n",
              "\n",
              "<style>\n",
              "  .colab-df-quickchart {\n",
              "      --bg-color: #E8F0FE;\n",
              "      --fill-color: #1967D2;\n",
              "      --hover-bg-color: #E2EBFA;\n",
              "      --hover-fill-color: #174EA6;\n",
              "      --disabled-fill-color: #AAA;\n",
              "      --disabled-bg-color: #DDD;\n",
              "  }\n",
              "\n",
              "  [theme=dark] .colab-df-quickchart {\n",
              "      --bg-color: #3B4455;\n",
              "      --fill-color: #D2E3FC;\n",
              "      --hover-bg-color: #434B5C;\n",
              "      --hover-fill-color: #FFFFFF;\n",
              "      --disabled-bg-color: #3B4455;\n",
              "      --disabled-fill-color: #666;\n",
              "  }\n",
              "\n",
              "  .colab-df-quickchart {\n",
              "    background-color: var(--bg-color);\n",
              "    border: none;\n",
              "    border-radius: 50%;\n",
              "    cursor: pointer;\n",
              "    display: none;\n",
              "    fill: var(--fill-color);\n",
              "    height: 32px;\n",
              "    padding: 0;\n",
              "    width: 32px;\n",
              "  }\n",
              "\n",
              "  .colab-df-quickchart:hover {\n",
              "    background-color: var(--hover-bg-color);\n",
              "    box-shadow: 0 1px 2px rgba(60, 64, 67, 0.3), 0 1px 3px 1px rgba(60, 64, 67, 0.15);\n",
              "    fill: var(--button-hover-fill-color);\n",
              "  }\n",
              "\n",
              "  .colab-df-quickchart-complete:disabled,\n",
              "  .colab-df-quickchart-complete:disabled:hover {\n",
              "    background-color: var(--disabled-bg-color);\n",
              "    fill: var(--disabled-fill-color);\n",
              "    box-shadow: none;\n",
              "  }\n",
              "\n",
              "  .colab-df-spinner {\n",
              "    border: 2px solid var(--fill-color);\n",
              "    border-color: transparent;\n",
              "    border-bottom-color: var(--fill-color);\n",
              "    animation:\n",
              "      spin 1s steps(1) infinite;\n",
              "  }\n",
              "\n",
              "  @keyframes spin {\n",
              "    0% {\n",
              "      border-color: transparent;\n",
              "      border-bottom-color: var(--fill-color);\n",
              "      border-left-color: var(--fill-color);\n",
              "    }\n",
              "    20% {\n",
              "      border-color: transparent;\n",
              "      border-left-color: var(--fill-color);\n",
              "      border-top-color: var(--fill-color);\n",
              "    }\n",
              "    30% {\n",
              "      border-color: transparent;\n",
              "      border-left-color: var(--fill-color);\n",
              "      border-top-color: var(--fill-color);\n",
              "      border-right-color: var(--fill-color);\n",
              "    }\n",
              "    40% {\n",
              "      border-color: transparent;\n",
              "      border-right-color: var(--fill-color);\n",
              "      border-top-color: var(--fill-color);\n",
              "    }\n",
              "    60% {\n",
              "      border-color: transparent;\n",
              "      border-right-color: var(--fill-color);\n",
              "    }\n",
              "    80% {\n",
              "      border-color: transparent;\n",
              "      border-right-color: var(--fill-color);\n",
              "      border-bottom-color: var(--fill-color);\n",
              "    }\n",
              "    90% {\n",
              "      border-color: transparent;\n",
              "      border-bottom-color: var(--fill-color);\n",
              "    }\n",
              "  }\n",
              "</style>\n",
              "\n",
              "  <script>\n",
              "    async function quickchart(key) {\n",
              "      const quickchartButtonEl =\n",
              "        document.querySelector('#' + key + ' button');\n",
              "      quickchartButtonEl.disabled = true;  // To prevent multiple clicks.\n",
              "      quickchartButtonEl.classList.add('colab-df-spinner');\n",
              "      try {\n",
              "        const charts = await google.colab.kernel.invokeFunction(\n",
              "            'suggestCharts', [key], {});\n",
              "      } catch (error) {\n",
              "        console.error('Error during call to suggestCharts:', error);\n",
              "      }\n",
              "      quickchartButtonEl.classList.remove('colab-df-spinner');\n",
              "      quickchartButtonEl.classList.add('colab-df-quickchart-complete');\n",
              "    }\n",
              "    (() => {\n",
              "      let quickchartButtonEl =\n",
              "        document.querySelector('#df-8ca273c3-d188-4fa0-a510-bf540369c539 button');\n",
              "      quickchartButtonEl.style.display =\n",
              "        google.colab.kernel.accessAllowed ? 'block' : 'none';\n",
              "    })();\n",
              "  </script>\n",
              "</div>\n",
              "\n",
              "  <div id=\"id_8ae1940f-c585-446c-af5e-76f12dbe1ca5\">\n",
              "    <style>\n",
              "      .colab-df-generate {\n",
              "        background-color: #E8F0FE;\n",
              "        border: none;\n",
              "        border-radius: 50%;\n",
              "        cursor: pointer;\n",
              "        display: none;\n",
              "        fill: #1967D2;\n",
              "        height: 32px;\n",
              "        padding: 0 0 0 0;\n",
              "        width: 32px;\n",
              "      }\n",
              "\n",
              "      .colab-df-generate:hover {\n",
              "        background-color: #E2EBFA;\n",
              "        box-shadow: 0px 1px 2px rgba(60, 64, 67, 0.3), 0px 1px 3px 1px rgba(60, 64, 67, 0.15);\n",
              "        fill: #174EA6;\n",
              "      }\n",
              "\n",
              "      [theme=dark] .colab-df-generate {\n",
              "        background-color: #3B4455;\n",
              "        fill: #D2E3FC;\n",
              "      }\n",
              "\n",
              "      [theme=dark] .colab-df-generate:hover {\n",
              "        background-color: #434B5C;\n",
              "        box-shadow: 0px 1px 3px 1px rgba(0, 0, 0, 0.15);\n",
              "        filter: drop-shadow(0px 1px 2px rgba(0, 0, 0, 0.3));\n",
              "        fill: #FFFFFF;\n",
              "      }\n",
              "    </style>\n",
              "    <button class=\"colab-df-generate\" onclick=\"generateWithVariable('df_multi')\"\n",
              "            title=\"Generate code using this dataframe.\"\n",
              "            style=\"display:none;\">\n",
              "\n",
              "  <svg xmlns=\"http://www.w3.org/2000/svg\" height=\"24px\"viewBox=\"0 0 24 24\"\n",
              "       width=\"24px\">\n",
              "    <path d=\"M7,19H8.4L18.45,9,17,7.55,7,17.6ZM5,21V16.75L18.45,3.32a2,2,0,0,1,2.83,0l1.4,1.43a1.91,1.91,0,0,1,.58,1.4,1.91,1.91,0,0,1-.58,1.4L9.25,21ZM18.45,9,17,7.55Zm-12,3A5.31,5.31,0,0,0,4.9,8.1,5.31,5.31,0,0,0,1,6.5,5.31,5.31,0,0,0,4.9,4.9,5.31,5.31,0,0,0,6.5,1,5.31,5.31,0,0,0,8.1,4.9,5.31,5.31,0,0,0,12,6.5,5.46,5.46,0,0,0,6.5,12Z\"/>\n",
              "  </svg>\n",
              "    </button>\n",
              "    <script>\n",
              "      (() => {\n",
              "      const buttonEl =\n",
              "        document.querySelector('#id_8ae1940f-c585-446c-af5e-76f12dbe1ca5 button.colab-df-generate');\n",
              "      buttonEl.style.display =\n",
              "        google.colab.kernel.accessAllowed ? 'block' : 'none';\n",
              "\n",
              "      buttonEl.onclick = () => {\n",
              "        google.colab.notebook.generateWithVariable('df_multi');\n",
              "      }\n",
              "      })();\n",
              "    </script>\n",
              "  </div>\n",
              "\n",
              "    </div>\n",
              "  </div>\n"
            ],
            "application/vnd.google.colaboratory.intrinsic+json": {
              "type": "dataframe",
              "variable_name": "df_multi",
              "summary": "{\n  \"name\": \"df_multi\",\n  \"rows\": 1579,\n  \"fields\": [\n    {\n      \"column\": \"System_Calls\",\n      \"properties\": {\n        \"dtype\": \"object\",\n        \"semantic_type\": \"\",\n        \"description\": \"\"\n      }\n    },\n    {\n      \"column\": \"Label\",\n      \"properties\": {\n        \"dtype\": \"number\",\n        \"std\": 1,\n        \"min\": 0,\n        \"max\": 6,\n        \"num_unique_values\": 7,\n        \"samples\": [\n          0,\n          1,\n          5\n        ],\n        \"semantic_type\": \"\",\n        \"description\": \"\"\n      }\n    }\n  ]\n}"
            }
          },
          "metadata": {},
          "execution_count": 26
        }
      ]
    },
    {
      "cell_type": "markdown",
      "source": [
        "### Set aside some attack instances(make val dataset)"
      ],
      "metadata": {
        "id": "pa1NLqvlssQF"
      }
    },
    {
      "cell_type": "code",
      "source": [
        "X_val_multi = val.copy()\n",
        "y_val_multi = np.zeros(4372)\n",
        "\n",
        "#Separate attack instances (labels 1-6) from normal instances (label 0)\n",
        "attack_data = df_multi[df_multi['Label'] != 0]\n",
        "\n",
        "#Set aside 10% attack data for validation\n",
        "attack_data_for_val = attack_data.sample(frac=0.1, random_state=42)\n",
        "\n",
        "#Remove the attack data instances set aside for validation from the training set\n",
        "df_multi = df_multi.drop(attack_data_for_val.index)\n",
        "\n",
        "#add the attack system calls (from attack_data_for_val) to X_val_multi\n",
        "X_val_multi.extend(attack_data_for_val['System_Calls'].tolist())\n",
        "\n",
        "#add the attack labels (from attack_data_for_val) to y_val_multi\n",
        "y_val_multi = np.append(y_val_multi, attack_data_for_val['Label'].values)\n",
        "\n",
        "#Shuffle the X_val_multi and y_val_multi together\n",
        "X_val_multi, y_val_multi = shuffle(X_val_multi, y_val_multi, random_state=42)\n",
        "\n",
        "print(\"Updated validation data dimensions:\")\n",
        "print(\"attack_data_for_vali length:\", len(attack_data_for_val))\n",
        "print(\"X_val_multi length:\", len(X_val_multi))\n",
        "print(\"y_val_multi length:\", len(y_val_multi))"
      ],
      "metadata": {
        "id": "2P5reFDSsw5I",
        "colab": {
          "base_uri": "https://localhost:8080/"
        },
        "outputId": "fff8d1f1-544b-4de5-982a-bd669634a72a"
      },
      "execution_count": 27,
      "outputs": [
        {
          "output_type": "stream",
          "name": "stdout",
          "text": [
            "Updated validation data dimensions:\n",
            "attack_data_for_vali length: 75\n",
            "X_val_multi length: 4447\n",
            "y_val_multi length: 4447\n"
          ]
        }
      ]
    },
    {
      "cell_type": "markdown",
      "metadata": {
        "id": "K59nipgkiSrC"
      },
      "source": [
        "### Train test split"
      ]
    },
    {
      "cell_type": "code",
      "execution_count": 28,
      "metadata": {
        "id": "7k5TAPnBiVnT"
      },
      "outputs": [],
      "source": [
        "#Split data into training and testing\n",
        "train_data, test_data = train_test_split(df_multi, test_size=0.20, random_state=42)\n",
        "\n",
        "#Tokenize text\n",
        "tokenizer = Tokenizer()\n",
        "tokenizer.fit_on_texts(train_data['System_Calls'])\n",
        "train_sequences = tokenizer.texts_to_sequences(train_data['System_Calls'])\n",
        "test_sequences = tokenizer.texts_to_sequences(test_data['System_Calls'])\n",
        "\n",
        "val_sequences_multi = tokenizer.texts_to_sequences(X_val_multi)\n",
        "\n",
        "#Padding sequences\n",
        "max_len = 1000  # 90th percentile of max length\n",
        "X_train = pad_sequences(train_sequences, maxlen=max_len, padding='post')\n",
        "X_test = pad_sequences(test_sequences, maxlen=max_len, padding='post')\n",
        "y_train = train_data['Label']\n",
        "y_test = test_data['Label']\n",
        "\n",
        "\n",
        "X_val_multi = pad_sequences(val_sequences_multi, maxlen=max_len, padding='post')"
      ]
    },
    {
      "cell_type": "markdown",
      "metadata": {
        "id": "lVrvfhQmepzM"
      },
      "source": [
        "### Resampling the dataset"
      ]
    },
    {
      "cell_type": "code",
      "execution_count": 29,
      "metadata": {
        "colab": {
          "base_uri": "https://localhost:8080/"
        },
        "id": "wJAqfUFlKTdK",
        "outputId": "ca2c483c-686a-437c-8bbc-0ed0e131cd73"
      },
      "outputs": [
        {
          "output_type": "stream",
          "name": "stdout",
          "text": [
            "New class distribution in training set: Counter({0: 350, 1: 280, 2: 280, 3: 280, 4: 280, 5: 280, 6: 280})\n"
          ]
        }
      ],
      "source": [
        "#Undersample class 0 to 350 samples in the training set\n",
        "undersample = RandomUnderSampler(sampling_strategy={0: 350}, random_state=42)\n",
        "X_train_under, y_train_under = undersample.fit_resample(X_train, y_train)\n",
        "\n",
        "#Oversample other classes to 280 samples in the training set\n",
        "oversample = RandomOverSampler(sampling_strategy={1: 280, 2: 280, 3: 280, 4: 280, 5: 280, 6: 280}, random_state=42)\n",
        "X_train_balanced, y_train_balanced = oversample.fit_resample(X_train_under, y_train_under)\n",
        "\n",
        "#Display new class distribution in the training set\n",
        "print(\"New class distribution in training set:\", Counter(y_train_balanced))"
      ]
    },
    {
      "cell_type": "markdown",
      "metadata": {
        "id": "p6vzaJ7cjjLS"
      },
      "source": [
        "## Defining the model architecture"
      ]
    },
    {
      "cell_type": "code",
      "execution_count": 30,
      "metadata": {
        "colab": {
          "base_uri": "https://localhost:8080/",
          "height": 505
        },
        "id": "xD4EtBHOh4xW",
        "outputId": "290f8ca5-af26-42a7-b65c-735ef9909c3f"
      },
      "outputs": [
        {
          "output_type": "stream",
          "name": "stderr",
          "text": [
            "/usr/local/lib/python3.10/dist-packages/keras/src/layers/core/embedding.py:90: UserWarning: Argument `input_length` is deprecated. Just remove it.\n",
            "  warnings.warn(\n"
          ]
        },
        {
          "output_type": "display_data",
          "data": {
            "text/plain": [
              "\u001b[1mModel: \"sequential_1\"\u001b[0m\n"
            ],
            "text/html": [
              "<pre style=\"white-space:pre;overflow-x:auto;line-height:normal;font-family:Menlo,'DejaVu Sans Mono',consolas,'Courier New',monospace\"><span style=\"font-weight: bold\">Model: \"sequential_1\"</span>\n",
              "</pre>\n"
            ]
          },
          "metadata": {}
        },
        {
          "output_type": "display_data",
          "data": {
            "text/plain": [
              "┏━━━━━━━━━━━━━━━━━━━━━━━━━━━━━━━━━━━━━━┳━━━━━━━━━━━━━━━━━━━━━━━━━━━━━┳━━━━━━━━━━━━━━━━━┓\n",
              "┃\u001b[1m \u001b[0m\u001b[1mLayer (type)                        \u001b[0m\u001b[1m \u001b[0m┃\u001b[1m \u001b[0m\u001b[1mOutput Shape               \u001b[0m\u001b[1m \u001b[0m┃\u001b[1m \u001b[0m\u001b[1m        Param #\u001b[0m\u001b[1m \u001b[0m┃\n",
              "┡━━━━━━━━━━━━━━━━━━━━━━━━━━━━━━━━━━━━━━╇━━━━━━━━━━━━━━━━━━━━━━━━━━━━━╇━━━━━━━━━━━━━━━━━┩\n",
              "│ embedding_1 (\u001b[38;5;33mEmbedding\u001b[0m)              │ ?                           │          \u001b[38;5;34m14,800\u001b[0m │\n",
              "├──────────────────────────────────────┼─────────────────────────────┼─────────────────┤\n",
              "│ bidirectional_2 (\u001b[38;5;33mBidirectional\u001b[0m)      │ ?                           │     \u001b[38;5;34m0\u001b[0m (unbuilt) │\n",
              "├──────────────────────────────────────┼─────────────────────────────┼─────────────────┤\n",
              "│ batch_normalization_2                │ ?                           │     \u001b[38;5;34m0\u001b[0m (unbuilt) │\n",
              "│ (\u001b[38;5;33mBatchNormalization\u001b[0m)                 │                             │                 │\n",
              "├──────────────────────────────────────┼─────────────────────────────┼─────────────────┤\n",
              "│ dropout_2 (\u001b[38;5;33mDropout\u001b[0m)                  │ ?                           │     \u001b[38;5;34m0\u001b[0m (unbuilt) │\n",
              "├──────────────────────────────────────┼─────────────────────────────┼─────────────────┤\n",
              "│ bidirectional_3 (\u001b[38;5;33mBidirectional\u001b[0m)      │ ?                           │     \u001b[38;5;34m0\u001b[0m (unbuilt) │\n",
              "├──────────────────────────────────────┼─────────────────────────────┼─────────────────┤\n",
              "│ batch_normalization_3                │ ?                           │     \u001b[38;5;34m0\u001b[0m (unbuilt) │\n",
              "│ (\u001b[38;5;33mBatchNormalization\u001b[0m)                 │                             │                 │\n",
              "├──────────────────────────────────────┼─────────────────────────────┼─────────────────┤\n",
              "│ dense_2 (\u001b[38;5;33mDense\u001b[0m)                      │ ?                           │     \u001b[38;5;34m0\u001b[0m (unbuilt) │\n",
              "├──────────────────────────────────────┼─────────────────────────────┼─────────────────┤\n",
              "│ dropout_3 (\u001b[38;5;33mDropout\u001b[0m)                  │ ?                           │     \u001b[38;5;34m0\u001b[0m (unbuilt) │\n",
              "├──────────────────────────────────────┼─────────────────────────────┼─────────────────┤\n",
              "│ dense_3 (\u001b[38;5;33mDense\u001b[0m)                      │ ?                           │     \u001b[38;5;34m0\u001b[0m (unbuilt) │\n",
              "└──────────────────────────────────────┴─────────────────────────────┴─────────────────┘\n"
            ],
            "text/html": [
              "<pre style=\"white-space:pre;overflow-x:auto;line-height:normal;font-family:Menlo,'DejaVu Sans Mono',consolas,'Courier New',monospace\">┏━━━━━━━━━━━━━━━━━━━━━━━━━━━━━━━━━━━━━━┳━━━━━━━━━━━━━━━━━━━━━━━━━━━━━┳━━━━━━━━━━━━━━━━━┓\n",
              "┃<span style=\"font-weight: bold\"> Layer (type)                         </span>┃<span style=\"font-weight: bold\"> Output Shape                </span>┃<span style=\"font-weight: bold\">         Param # </span>┃\n",
              "┡━━━━━━━━━━━━━━━━━━━━━━━━━━━━━━━━━━━━━━╇━━━━━━━━━━━━━━━━━━━━━━━━━━━━━╇━━━━━━━━━━━━━━━━━┩\n",
              "│ embedding_1 (<span style=\"color: #0087ff; text-decoration-color: #0087ff\">Embedding</span>)              │ ?                           │          <span style=\"color: #00af00; text-decoration-color: #00af00\">14,800</span> │\n",
              "├──────────────────────────────────────┼─────────────────────────────┼─────────────────┤\n",
              "│ bidirectional_2 (<span style=\"color: #0087ff; text-decoration-color: #0087ff\">Bidirectional</span>)      │ ?                           │     <span style=\"color: #00af00; text-decoration-color: #00af00\">0</span> (unbuilt) │\n",
              "├──────────────────────────────────────┼─────────────────────────────┼─────────────────┤\n",
              "│ batch_normalization_2                │ ?                           │     <span style=\"color: #00af00; text-decoration-color: #00af00\">0</span> (unbuilt) │\n",
              "│ (<span style=\"color: #0087ff; text-decoration-color: #0087ff\">BatchNormalization</span>)                 │                             │                 │\n",
              "├──────────────────────────────────────┼─────────────────────────────┼─────────────────┤\n",
              "│ dropout_2 (<span style=\"color: #0087ff; text-decoration-color: #0087ff\">Dropout</span>)                  │ ?                           │     <span style=\"color: #00af00; text-decoration-color: #00af00\">0</span> (unbuilt) │\n",
              "├──────────────────────────────────────┼─────────────────────────────┼─────────────────┤\n",
              "│ bidirectional_3 (<span style=\"color: #0087ff; text-decoration-color: #0087ff\">Bidirectional</span>)      │ ?                           │     <span style=\"color: #00af00; text-decoration-color: #00af00\">0</span> (unbuilt) │\n",
              "├──────────────────────────────────────┼─────────────────────────────┼─────────────────┤\n",
              "│ batch_normalization_3                │ ?                           │     <span style=\"color: #00af00; text-decoration-color: #00af00\">0</span> (unbuilt) │\n",
              "│ (<span style=\"color: #0087ff; text-decoration-color: #0087ff\">BatchNormalization</span>)                 │                             │                 │\n",
              "├──────────────────────────────────────┼─────────────────────────────┼─────────────────┤\n",
              "│ dense_2 (<span style=\"color: #0087ff; text-decoration-color: #0087ff\">Dense</span>)                      │ ?                           │     <span style=\"color: #00af00; text-decoration-color: #00af00\">0</span> (unbuilt) │\n",
              "├──────────────────────────────────────┼─────────────────────────────┼─────────────────┤\n",
              "│ dropout_3 (<span style=\"color: #0087ff; text-decoration-color: #0087ff\">Dropout</span>)                  │ ?                           │     <span style=\"color: #00af00; text-decoration-color: #00af00\">0</span> (unbuilt) │\n",
              "├──────────────────────────────────────┼─────────────────────────────┼─────────────────┤\n",
              "│ dense_3 (<span style=\"color: #0087ff; text-decoration-color: #0087ff\">Dense</span>)                      │ ?                           │     <span style=\"color: #00af00; text-decoration-color: #00af00\">0</span> (unbuilt) │\n",
              "└──────────────────────────────────────┴─────────────────────────────┴─────────────────┘\n",
              "</pre>\n"
            ]
          },
          "metadata": {}
        },
        {
          "output_type": "display_data",
          "data": {
            "text/plain": [
              "\u001b[1m Total params: \u001b[0m\u001b[38;5;34m14,800\u001b[0m (57.81 KB)\n"
            ],
            "text/html": [
              "<pre style=\"white-space:pre;overflow-x:auto;line-height:normal;font-family:Menlo,'DejaVu Sans Mono',consolas,'Courier New',monospace\"><span style=\"font-weight: bold\"> Total params: </span><span style=\"color: #00af00; text-decoration-color: #00af00\">14,800</span> (57.81 KB)\n",
              "</pre>\n"
            ]
          },
          "metadata": {}
        },
        {
          "output_type": "display_data",
          "data": {
            "text/plain": [
              "\u001b[1m Trainable params: \u001b[0m\u001b[38;5;34m0\u001b[0m (0.00 B)\n"
            ],
            "text/html": [
              "<pre style=\"white-space:pre;overflow-x:auto;line-height:normal;font-family:Menlo,'DejaVu Sans Mono',consolas,'Courier New',monospace\"><span style=\"font-weight: bold\"> Trainable params: </span><span style=\"color: #00af00; text-decoration-color: #00af00\">0</span> (0.00 B)\n",
              "</pre>\n"
            ]
          },
          "metadata": {}
        },
        {
          "output_type": "display_data",
          "data": {
            "text/plain": [
              "\u001b[1m Non-trainable params: \u001b[0m\u001b[38;5;34m14,800\u001b[0m (57.81 KB)\n"
            ],
            "text/html": [
              "<pre style=\"white-space:pre;overflow-x:auto;line-height:normal;font-family:Menlo,'DejaVu Sans Mono',consolas,'Courier New',monospace\"><span style=\"font-weight: bold\"> Non-trainable params: </span><span style=\"color: #00af00; text-decoration-color: #00af00\">14,800</span> (57.81 KB)\n",
              "</pre>\n"
            ]
          },
          "metadata": {}
        }
      ],
      "source": [
        "model2 = Sequential()\n",
        "\n",
        "#Add the embedding layer using the pre-trained Word2Vec embeddings\n",
        "model2.add(Embedding(input_dim=vocab_size, output_dim=embedding_dim,\n",
        "                     weights=[embedding_matrix], input_length=1000, trainable=False))\n",
        "\n",
        "#Add Bidirectional LSTM layers\n",
        "model2.add(Bidirectional(LSTM(128, return_sequences=True)))\n",
        "model2.add(BatchNormalization())\n",
        "model2.add(Dropout(0.5))  # Dropout for regularization\n",
        "model2.add(Bidirectional(LSTM(64)))\n",
        "model2.add(BatchNormalization())\n",
        "\n",
        "#Add fully connected layers\n",
        "model2.add(Dense(64, activation='relu', kernel_regularizer=l2(0.04)))\n",
        "model2.add(Dropout(0.4))\n",
        "\n",
        "#Output layer\n",
        "model2.add(Dense(7, activation='softmax'))\n",
        "\n",
        "#Compile the model\n",
        "optimizer = Adam(learning_rate=0.0005, clipvalue=1.0)\n",
        "model2.compile(optimizer=optimizer, loss='sparse_categorical_crossentropy', metrics=['accuracy'])\n",
        "\n",
        "#Print the model summary\n",
        "model2.summary()"
      ]
    },
    {
      "cell_type": "code",
      "execution_count": 31,
      "metadata": {
        "colab": {
          "base_uri": "https://localhost:8080/"
        },
        "id": "wn1EOzqjucAp",
        "outputId": "865737b6-373d-4005-a758-66f166a655e2"
      },
      "outputs": [
        {
          "output_type": "stream",
          "name": "stdout",
          "text": [
            "Epoch 1/30\n",
            "\u001b[1m32/32\u001b[0m \u001b[32m━━━━━━━━━━━━━━━━━━━━\u001b[0m\u001b[37m\u001b[0m \u001b[1m12s\u001b[0m 205ms/step - accuracy: 0.2186 - loss: 5.6514 - val_accuracy: 0.4286 - val_loss: 4.7817\n",
            "Epoch 2/30\n",
            "\u001b[1m32/32\u001b[0m \u001b[32m━━━━━━━━━━━━━━━━━━━━\u001b[0m\u001b[37m\u001b[0m \u001b[1m6s\u001b[0m 182ms/step - accuracy: 0.3239 - loss: 4.6907 - val_accuracy: 0.4651 - val_loss: 4.2681\n",
            "Epoch 3/30\n",
            "\u001b[1m32/32\u001b[0m \u001b[32m━━━━━━━━━━━━━━━━━━━━\u001b[0m\u001b[37m\u001b[0m \u001b[1m10s\u001b[0m 181ms/step - accuracy: 0.4021 - loss: 4.1068 - val_accuracy: 0.5017 - val_loss: 3.8019\n",
            "Epoch 4/30\n",
            "\u001b[1m32/32\u001b[0m \u001b[32m━━━━━━━━━━━━━━━━━━━━\u001b[0m\u001b[37m\u001b[0m \u001b[1m6s\u001b[0m 185ms/step - accuracy: 0.4814 - loss: 3.6253 - val_accuracy: 0.5382 - val_loss: 3.3463\n",
            "Epoch 5/30\n",
            "\u001b[1m32/32\u001b[0m \u001b[32m━━━━━━━━━━━━━━━━━━━━\u001b[0m\u001b[37m\u001b[0m \u001b[1m10s\u001b[0m 182ms/step - accuracy: 0.5242 - loss: 3.2222 - val_accuracy: 0.5382 - val_loss: 2.9798\n",
            "Epoch 6/30\n",
            "\u001b[1m32/32\u001b[0m \u001b[32m━━━━━━━━━━━━━━━━━━━━\u001b[0m\u001b[37m\u001b[0m \u001b[1m10s\u001b[0m 180ms/step - accuracy: 0.5730 - loss: 2.8693 - val_accuracy: 0.5947 - val_loss: 2.6282\n",
            "Epoch 7/30\n",
            "\u001b[1m32/32\u001b[0m \u001b[32m━━━━━━━━━━━━━━━━━━━━\u001b[0m\u001b[37m\u001b[0m \u001b[1m10s\u001b[0m 180ms/step - accuracy: 0.5978 - loss: 2.6040 - val_accuracy: 0.6179 - val_loss: 2.3574\n",
            "Epoch 8/30\n",
            "\u001b[1m32/32\u001b[0m \u001b[32m━━━━━━━━━━━━━━━━━━━━\u001b[0m\u001b[37m\u001b[0m \u001b[1m10s\u001b[0m 179ms/step - accuracy: 0.6201 - loss: 2.3240 - val_accuracy: 0.6478 - val_loss: 2.1041\n",
            "Epoch 9/30\n",
            "\u001b[1m32/32\u001b[0m \u001b[32m━━━━━━━━━━━━━━━━━━━━\u001b[0m\u001b[37m\u001b[0m \u001b[1m10s\u001b[0m 181ms/step - accuracy: 0.6631 - loss: 2.1101 - val_accuracy: 0.6777 - val_loss: 1.9020\n",
            "Epoch 10/30\n",
            "\u001b[1m32/32\u001b[0m \u001b[32m━━━━━━━━━━━━━━━━━━━━\u001b[0m\u001b[37m\u001b[0m \u001b[1m10s\u001b[0m 182ms/step - accuracy: 0.6638 - loss: 1.9270 - val_accuracy: 0.6744 - val_loss: 1.7663\n",
            "Epoch 11/30\n",
            "\u001b[1m32/32\u001b[0m \u001b[32m━━━━━━━━━━━━━━━━━━━━\u001b[0m\u001b[37m\u001b[0m \u001b[1m10s\u001b[0m 183ms/step - accuracy: 0.6782 - loss: 1.7641 - val_accuracy: 0.6877 - val_loss: 1.5929\n",
            "Epoch 12/30\n",
            "\u001b[1m32/32\u001b[0m \u001b[32m━━━━━━━━━━━━━━━━━━━━\u001b[0m\u001b[37m\u001b[0m \u001b[1m10s\u001b[0m 180ms/step - accuracy: 0.7049 - loss: 1.5904 - val_accuracy: 0.6844 - val_loss: 1.5388\n",
            "Epoch 13/30\n",
            "\u001b[1m32/32\u001b[0m \u001b[32m━━━━━━━━━━━━━━━━━━━━\u001b[0m\u001b[37m\u001b[0m \u001b[1m10s\u001b[0m 181ms/step - accuracy: 0.7226 - loss: 1.4754 - val_accuracy: 0.6877 - val_loss: 1.4156\n",
            "Epoch 14/30\n",
            "\u001b[1m32/32\u001b[0m \u001b[32m━━━━━━━━━━━━━━━━━━━━\u001b[0m\u001b[37m\u001b[0m \u001b[1m10s\u001b[0m 182ms/step - accuracy: 0.7565 - loss: 1.3233 - val_accuracy: 0.7110 - val_loss: 1.2970\n",
            "Epoch 15/30\n",
            "\u001b[1m32/32\u001b[0m \u001b[32m━━━━━━━━━━━━━━━━━━━━\u001b[0m\u001b[37m\u001b[0m \u001b[1m10s\u001b[0m 180ms/step - accuracy: 0.7435 - loss: 1.2728 - val_accuracy: 0.7143 - val_loss: 1.2282\n",
            "Epoch 16/30\n",
            "\u001b[1m32/32\u001b[0m \u001b[32m━━━━━━━━━━━━━━━━━━━━\u001b[0m\u001b[37m\u001b[0m \u001b[1m10s\u001b[0m 182ms/step - accuracy: 0.7664 - loss: 1.1569 - val_accuracy: 0.7209 - val_loss: 1.1732\n",
            "Epoch 17/30\n",
            "\u001b[1m32/32\u001b[0m \u001b[32m━━━━━━━━━━━━━━━━━━━━\u001b[0m\u001b[37m\u001b[0m \u001b[1m10s\u001b[0m 183ms/step - accuracy: 0.7810 - loss: 1.0857 - val_accuracy: 0.7076 - val_loss: 1.1473\n",
            "Epoch 18/30\n",
            "\u001b[1m32/32\u001b[0m \u001b[32m━━━━━━━━━━━━━━━━━━━━\u001b[0m\u001b[37m\u001b[0m \u001b[1m10s\u001b[0m 182ms/step - accuracy: 0.7684 - loss: 1.0338 - val_accuracy: 0.7243 - val_loss: 1.0848\n",
            "Epoch 19/30\n",
            "\u001b[1m32/32\u001b[0m \u001b[32m━━━━━━━━━━━━━━━━━━━━\u001b[0m\u001b[37m\u001b[0m \u001b[1m10s\u001b[0m 180ms/step - accuracy: 0.7958 - loss: 0.9517 - val_accuracy: 0.7176 - val_loss: 1.0992\n",
            "Epoch 20/30\n",
            "\u001b[1m32/32\u001b[0m \u001b[32m━━━━━━━━━━━━━━━━━━━━\u001b[0m\u001b[37m\u001b[0m \u001b[1m10s\u001b[0m 180ms/step - accuracy: 0.8096 - loss: 0.8811 - val_accuracy: 0.7475 - val_loss: 1.0388\n",
            "Epoch 21/30\n",
            "\u001b[1m32/32\u001b[0m \u001b[32m━━━━━━━━━━━━━━━━━━━━\u001b[0m\u001b[37m\u001b[0m \u001b[1m10s\u001b[0m 180ms/step - accuracy: 0.8025 - loss: 0.8821 - val_accuracy: 0.7243 - val_loss: 1.0513\n",
            "Epoch 22/30\n",
            "\u001b[1m32/32\u001b[0m \u001b[32m━━━━━━━━━━━━━━━━━━━━\u001b[0m\u001b[37m\u001b[0m \u001b[1m6s\u001b[0m 183ms/step - accuracy: 0.8146 - loss: 0.8128 - val_accuracy: 0.7243 - val_loss: 1.0315\n",
            "Epoch 23/30\n",
            "\u001b[1m32/32\u001b[0m \u001b[32m━━━━━━━━━━━━━━━━━━━━\u001b[0m\u001b[37m\u001b[0m \u001b[1m10s\u001b[0m 181ms/step - accuracy: 0.8321 - loss: 0.7644 - val_accuracy: 0.7575 - val_loss: 0.9856\n",
            "Epoch 24/30\n",
            "\u001b[1m32/32\u001b[0m \u001b[32m━━━━━━━━━━━━━━━━━━━━\u001b[0m\u001b[37m\u001b[0m \u001b[1m10s\u001b[0m 179ms/step - accuracy: 0.8381 - loss: 0.7278 - val_accuracy: 0.7276 - val_loss: 1.0095\n",
            "Epoch 25/30\n",
            "\u001b[1m32/32\u001b[0m \u001b[32m━━━━━━━━━━━━━━━━━━━━\u001b[0m\u001b[37m\u001b[0m \u001b[1m10s\u001b[0m 179ms/step - accuracy: 0.8613 - loss: 0.6704 - val_accuracy: 0.7342 - val_loss: 1.0022\n",
            "Epoch 26/30\n",
            "\u001b[1m32/32\u001b[0m \u001b[32m━━━━━━━━━━━━━━━━━━━━\u001b[0m\u001b[37m\u001b[0m \u001b[1m10s\u001b[0m 180ms/step - accuracy: 0.8383 - loss: 0.6899 - val_accuracy: 0.7375 - val_loss: 0.9938\n",
            "Epoch 27/30\n",
            "\u001b[1m32/32\u001b[0m \u001b[32m━━━━━━━━━━━━━━━━━━━━\u001b[0m\u001b[37m\u001b[0m \u001b[1m6s\u001b[0m 184ms/step - accuracy: 0.8637 - loss: 0.6213 - val_accuracy: 0.7209 - val_loss: 0.9731\n",
            "Epoch 28/30\n",
            "\u001b[1m32/32\u001b[0m \u001b[32m━━━━━━━━━━━━━━━━━━━━\u001b[0m\u001b[37m\u001b[0m \u001b[1m6s\u001b[0m 182ms/step - accuracy: 0.8650 - loss: 0.5958 - val_accuracy: 0.7575 - val_loss: 0.9095\n",
            "Epoch 29/30\n",
            "\u001b[1m32/32\u001b[0m \u001b[32m━━━━━━━━━━━━━━━━━━━━\u001b[0m\u001b[37m\u001b[0m \u001b[1m10s\u001b[0m 181ms/step - accuracy: 0.8726 - loss: 0.5563 - val_accuracy: 0.7375 - val_loss: 0.9419\n",
            "Epoch 30/30\n",
            "\u001b[1m32/32\u001b[0m \u001b[32m━━━━━━━━━━━━━━━━━━━━\u001b[0m\u001b[37m\u001b[0m \u001b[1m6s\u001b[0m 180ms/step - accuracy: 0.8628 - loss: 0.5560 - val_accuracy: 0.7674 - val_loss: 0.9249\n"
          ]
        },
        {
          "output_type": "execute_result",
          "data": {
            "text/plain": [
              "<keras.src.callbacks.history.History at 0x7b08a96c6d10>"
            ]
          },
          "metadata": {},
          "execution_count": 31
        }
      ],
      "source": [
        "model2.fit(X_train_balanced, y_train_balanced, epochs=30, batch_size=64, validation_data=(X_test, y_test))"
      ]
    },
    {
      "cell_type": "code",
      "execution_count": 32,
      "metadata": {
        "id": "1aW9sCC8vCQQ"
      },
      "outputs": [],
      "source": [
        "# # generating model architecture diagram\n",
        "# from keras.utils import plot_model\n",
        "\n",
        "# # Assuming `model` is your Keras model\n",
        "# plot_model(model2, to_file='model2.png', show_shapes=True, show_layer_names=True)\n"
      ]
    },
    {
      "cell_type": "markdown",
      "metadata": {
        "id": "w_LKnrLZEmbt"
      },
      "source": [
        "### Test the trained model on validation dataset"
      ]
    },
    {
      "cell_type": "code",
      "source": [
        "print(\"Unique labels in y_val_multi:\", np.unique(y_val_multi))"
      ],
      "metadata": {
        "colab": {
          "base_uri": "https://localhost:8080/"
        },
        "id": "j7vUq6EI6ebM",
        "outputId": "5a831da8-86dd-4dfe-e402-22aade639d1c"
      },
      "execution_count": 35,
      "outputs": [
        {
          "output_type": "stream",
          "name": "stdout",
          "text": [
            "Unique labels in y_val_multi: [0. 1. 2. 3. 4. 5. 6.]\n"
          ]
        }
      ]
    },
    {
      "cell_type": "code",
      "execution_count": 36,
      "metadata": {
        "colab": {
          "base_uri": "https://localhost:8080/"
        },
        "id": "fRqb7aQOEmbt",
        "outputId": "b4073aca-cc20-4c83-d67c-b1c2776f1d22"
      },
      "outputs": [
        {
          "output_type": "stream",
          "name": "stdout",
          "text": [
            "\u001b[1m139/139\u001b[0m \u001b[32m━━━━━━━━━━━━━━━━━━━━\u001b[0m\u001b[37m\u001b[0m \u001b[1m7s\u001b[0m 52ms/step - accuracy: 0.7769 - loss: 1.0709\n",
            "Validation Accuracy: 0.7760288119316101\n",
            "Validation Loss: 1.0881074666976929\n"
          ]
        }
      ],
      "source": [
        "#Evaluate the model on the validation data\n",
        "loss, accuracy = model2.evaluate(X_val_multi, y_val_multi, verbose=1)\n",
        "\n",
        "print(\"Validation Accuracy:\", accuracy)\n",
        "print(\"Validation Loss:\", loss)"
      ]
    },
    {
      "cell_type": "code",
      "execution_count": null,
      "metadata": {
        "id": "MvH1KcR6EpLd"
      },
      "outputs": [],
      "source": []
    }
  ],
  "metadata": {
    "accelerator": "GPU",
    "colab": {
      "gpuType": "T4",
      "provenance": []
    },
    "kernelspec": {
      "display_name": "Python 3",
      "name": "python3"
    },
    "language_info": {
      "name": "python"
    }
  },
  "nbformat": 4,
  "nbformat_minor": 0
}